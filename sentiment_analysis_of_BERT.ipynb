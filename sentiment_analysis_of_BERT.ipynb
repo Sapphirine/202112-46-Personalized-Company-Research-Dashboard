{
  "nbformat": 4,
  "nbformat_minor": 5,
  "metadata": {
    "kernelspec": {
      "display_name": "Python 3",
      "language": "python",
      "name": "python3"
    },
    "language_info": {
      "codemirror_mode": {
        "name": "ipython",
        "version": 3
      },
      "file_extension": ".py",
      "mimetype": "text/x-python",
      "name": "python",
      "nbconvert_exporter": "python",
      "pygments_lexer": "ipython3",
      "version": "3.7.10"
    },
    "papermill": {
      "default_parameters": {},
      "duration": 795.048883,
      "end_time": "2021-05-29T15:44:37.848583",
      "environment_variables": {},
      "exception": null,
      "input_path": "__notebook__.ipynb",
      "output_path": "__notebook__.ipynb",
      "parameters": {},
      "start_time": "2021-05-29T15:31:22.799700",
      "version": "2.3.3"
    },
    "colab": {
      "name": "sentiment-analysis-of-BERT.ipynb",
      "provenance": [],
      "collapsed_sections": [
        "governmental-immunology",
        "steady-lunch",
        "hairy-bubble",
        "embedded-metro",
        "compliant-security",
        "indian-bracelet"
      ]
    },
    "accelerator": "GPU",
    "widgets": {
      "application/vnd.jupyter.widget-state+json": {
        "158a4fad964540d198135f0010d61070": {
          "model_module": "@jupyter-widgets/controls",
          "model_name": "HBoxModel",
          "state": {
            "_view_name": "HBoxView",
            "_dom_classes": [],
            "_model_name": "HBoxModel",
            "_view_module": "@jupyter-widgets/controls",
            "_model_module_version": "1.5.0",
            "_view_count": null,
            "_view_module_version": "1.5.0",
            "box_style": "",
            "layout": "IPY_MODEL_fc505c5f18024857a75ce05f37dddbf2",
            "_model_module": "@jupyter-widgets/controls",
            "children": [
              "IPY_MODEL_59372d4ca22c4ffc93aadd4ea869f6e8",
              "IPY_MODEL_bff30ef2b9ca49788749d10defcac139"
            ]
          }
        },
        "fc505c5f18024857a75ce05f37dddbf2": {
          "model_module": "@jupyter-widgets/base",
          "model_name": "LayoutModel",
          "state": {
            "_view_name": "LayoutView",
            "grid_template_rows": null,
            "right": null,
            "justify_content": null,
            "_view_module": "@jupyter-widgets/base",
            "overflow": null,
            "_model_module_version": "1.2.0",
            "_view_count": null,
            "flex_flow": null,
            "width": null,
            "min_width": null,
            "border": null,
            "align_items": null,
            "bottom": null,
            "_model_module": "@jupyter-widgets/base",
            "top": null,
            "grid_column": null,
            "overflow_y": null,
            "overflow_x": null,
            "grid_auto_flow": null,
            "grid_area": null,
            "grid_template_columns": null,
            "flex": null,
            "_model_name": "LayoutModel",
            "justify_items": null,
            "grid_row": null,
            "max_height": null,
            "align_content": null,
            "visibility": null,
            "align_self": null,
            "height": null,
            "min_height": null,
            "padding": null,
            "grid_auto_rows": null,
            "grid_gap": null,
            "max_width": null,
            "order": null,
            "_view_module_version": "1.2.0",
            "grid_template_areas": null,
            "object_position": null,
            "object_fit": null,
            "grid_auto_columns": null,
            "margin": null,
            "display": null,
            "left": null
          }
        },
        "59372d4ca22c4ffc93aadd4ea869f6e8": {
          "model_module": "@jupyter-widgets/controls",
          "model_name": "FloatProgressModel",
          "state": {
            "_view_name": "ProgressView",
            "style": "IPY_MODEL_f69bedd7aff84f46bb85f30cfeeab578",
            "_dom_classes": [],
            "description": "Downloading: 100%",
            "_model_name": "FloatProgressModel",
            "bar_style": "success",
            "max": 231508,
            "_view_module": "@jupyter-widgets/controls",
            "_model_module_version": "1.5.0",
            "value": 231508,
            "_view_count": null,
            "_view_module_version": "1.5.0",
            "orientation": "horizontal",
            "min": 0,
            "description_tooltip": null,
            "_model_module": "@jupyter-widgets/controls",
            "layout": "IPY_MODEL_61919a2b20e9427c8b77e3142823e207"
          }
        },
        "bff30ef2b9ca49788749d10defcac139": {
          "model_module": "@jupyter-widgets/controls",
          "model_name": "HTMLModel",
          "state": {
            "_view_name": "HTMLView",
            "style": "IPY_MODEL_2c92d990a5bd4620a8629db8d76c3efa",
            "_dom_classes": [],
            "description": "",
            "_model_name": "HTMLModel",
            "placeholder": "​",
            "_view_module": "@jupyter-widgets/controls",
            "_model_module_version": "1.5.0",
            "value": " 232k/232k [00:00&lt;00:00, 1.42MB/s]",
            "_view_count": null,
            "_view_module_version": "1.5.0",
            "description_tooltip": null,
            "_model_module": "@jupyter-widgets/controls",
            "layout": "IPY_MODEL_385ac731f6754396b730caec08b823ca"
          }
        },
        "f69bedd7aff84f46bb85f30cfeeab578": {
          "model_module": "@jupyter-widgets/controls",
          "model_name": "ProgressStyleModel",
          "state": {
            "_view_name": "StyleView",
            "_model_name": "ProgressStyleModel",
            "description_width": "initial",
            "_view_module": "@jupyter-widgets/base",
            "_model_module_version": "1.5.0",
            "_view_count": null,
            "_view_module_version": "1.2.0",
            "bar_color": null,
            "_model_module": "@jupyter-widgets/controls"
          }
        },
        "61919a2b20e9427c8b77e3142823e207": {
          "model_module": "@jupyter-widgets/base",
          "model_name": "LayoutModel",
          "state": {
            "_view_name": "LayoutView",
            "grid_template_rows": null,
            "right": null,
            "justify_content": null,
            "_view_module": "@jupyter-widgets/base",
            "overflow": null,
            "_model_module_version": "1.2.0",
            "_view_count": null,
            "flex_flow": null,
            "width": null,
            "min_width": null,
            "border": null,
            "align_items": null,
            "bottom": null,
            "_model_module": "@jupyter-widgets/base",
            "top": null,
            "grid_column": null,
            "overflow_y": null,
            "overflow_x": null,
            "grid_auto_flow": null,
            "grid_area": null,
            "grid_template_columns": null,
            "flex": null,
            "_model_name": "LayoutModel",
            "justify_items": null,
            "grid_row": null,
            "max_height": null,
            "align_content": null,
            "visibility": null,
            "align_self": null,
            "height": null,
            "min_height": null,
            "padding": null,
            "grid_auto_rows": null,
            "grid_gap": null,
            "max_width": null,
            "order": null,
            "_view_module_version": "1.2.0",
            "grid_template_areas": null,
            "object_position": null,
            "object_fit": null,
            "grid_auto_columns": null,
            "margin": null,
            "display": null,
            "left": null
          }
        },
        "2c92d990a5bd4620a8629db8d76c3efa": {
          "model_module": "@jupyter-widgets/controls",
          "model_name": "DescriptionStyleModel",
          "state": {
            "_view_name": "StyleView",
            "_model_name": "DescriptionStyleModel",
            "description_width": "",
            "_view_module": "@jupyter-widgets/base",
            "_model_module_version": "1.5.0",
            "_view_count": null,
            "_view_module_version": "1.2.0",
            "_model_module": "@jupyter-widgets/controls"
          }
        },
        "385ac731f6754396b730caec08b823ca": {
          "model_module": "@jupyter-widgets/base",
          "model_name": "LayoutModel",
          "state": {
            "_view_name": "LayoutView",
            "grid_template_rows": null,
            "right": null,
            "justify_content": null,
            "_view_module": "@jupyter-widgets/base",
            "overflow": null,
            "_model_module_version": "1.2.0",
            "_view_count": null,
            "flex_flow": null,
            "width": null,
            "min_width": null,
            "border": null,
            "align_items": null,
            "bottom": null,
            "_model_module": "@jupyter-widgets/base",
            "top": null,
            "grid_column": null,
            "overflow_y": null,
            "overflow_x": null,
            "grid_auto_flow": null,
            "grid_area": null,
            "grid_template_columns": null,
            "flex": null,
            "_model_name": "LayoutModel",
            "justify_items": null,
            "grid_row": null,
            "max_height": null,
            "align_content": null,
            "visibility": null,
            "align_self": null,
            "height": null,
            "min_height": null,
            "padding": null,
            "grid_auto_rows": null,
            "grid_gap": null,
            "max_width": null,
            "order": null,
            "_view_module_version": "1.2.0",
            "grid_template_areas": null,
            "object_position": null,
            "object_fit": null,
            "grid_auto_columns": null,
            "margin": null,
            "display": null,
            "left": null
          }
        },
        "20945917000c42bbb917dc9ed618251f": {
          "model_module": "@jupyter-widgets/controls",
          "model_name": "HBoxModel",
          "state": {
            "_view_name": "HBoxView",
            "_dom_classes": [],
            "_model_name": "HBoxModel",
            "_view_module": "@jupyter-widgets/controls",
            "_model_module_version": "1.5.0",
            "_view_count": null,
            "_view_module_version": "1.5.0",
            "box_style": "",
            "layout": "IPY_MODEL_9622647b8dda4ac48e4c344a10bf92d7",
            "_model_module": "@jupyter-widgets/controls",
            "children": [
              "IPY_MODEL_06c5d00d2c544267959c1e4390893cbf",
              "IPY_MODEL_7dea2c8070074e788d693e1fb70e410f"
            ]
          }
        },
        "9622647b8dda4ac48e4c344a10bf92d7": {
          "model_module": "@jupyter-widgets/base",
          "model_name": "LayoutModel",
          "state": {
            "_view_name": "LayoutView",
            "grid_template_rows": null,
            "right": null,
            "justify_content": null,
            "_view_module": "@jupyter-widgets/base",
            "overflow": null,
            "_model_module_version": "1.2.0",
            "_view_count": null,
            "flex_flow": null,
            "width": null,
            "min_width": null,
            "border": null,
            "align_items": null,
            "bottom": null,
            "_model_module": "@jupyter-widgets/base",
            "top": null,
            "grid_column": null,
            "overflow_y": null,
            "overflow_x": null,
            "grid_auto_flow": null,
            "grid_area": null,
            "grid_template_columns": null,
            "flex": null,
            "_model_name": "LayoutModel",
            "justify_items": null,
            "grid_row": null,
            "max_height": null,
            "align_content": null,
            "visibility": null,
            "align_self": null,
            "height": null,
            "min_height": null,
            "padding": null,
            "grid_auto_rows": null,
            "grid_gap": null,
            "max_width": null,
            "order": null,
            "_view_module_version": "1.2.0",
            "grid_template_areas": null,
            "object_position": null,
            "object_fit": null,
            "grid_auto_columns": null,
            "margin": null,
            "display": null,
            "left": null
          }
        },
        "06c5d00d2c544267959c1e4390893cbf": {
          "model_module": "@jupyter-widgets/controls",
          "model_name": "FloatProgressModel",
          "state": {
            "_view_name": "ProgressView",
            "style": "IPY_MODEL_21d9db33e2c84e78a34321fa4af272aa",
            "_dom_classes": [],
            "description": "Downloading: 100%",
            "_model_name": "FloatProgressModel",
            "bar_style": "success",
            "max": 28,
            "_view_module": "@jupyter-widgets/controls",
            "_model_module_version": "1.5.0",
            "value": 28,
            "_view_count": null,
            "_view_module_version": "1.5.0",
            "orientation": "horizontal",
            "min": 0,
            "description_tooltip": null,
            "_model_module": "@jupyter-widgets/controls",
            "layout": "IPY_MODEL_85d4e1f5e7f24c899418d51f246f337a"
          }
        },
        "7dea2c8070074e788d693e1fb70e410f": {
          "model_module": "@jupyter-widgets/controls",
          "model_name": "HTMLModel",
          "state": {
            "_view_name": "HTMLView",
            "style": "IPY_MODEL_15fd207de43741b1b768c4ab9147217b",
            "_dom_classes": [],
            "description": "",
            "_model_name": "HTMLModel",
            "placeholder": "​",
            "_view_module": "@jupyter-widgets/controls",
            "_model_module_version": "1.5.0",
            "value": " 28.0/28.0 [00:00&lt;00:00, 124B/s]",
            "_view_count": null,
            "_view_module_version": "1.5.0",
            "description_tooltip": null,
            "_model_module": "@jupyter-widgets/controls",
            "layout": "IPY_MODEL_51ce3de3863b438f9ea08ec68385690c"
          }
        },
        "21d9db33e2c84e78a34321fa4af272aa": {
          "model_module": "@jupyter-widgets/controls",
          "model_name": "ProgressStyleModel",
          "state": {
            "_view_name": "StyleView",
            "_model_name": "ProgressStyleModel",
            "description_width": "initial",
            "_view_module": "@jupyter-widgets/base",
            "_model_module_version": "1.5.0",
            "_view_count": null,
            "_view_module_version": "1.2.0",
            "bar_color": null,
            "_model_module": "@jupyter-widgets/controls"
          }
        },
        "85d4e1f5e7f24c899418d51f246f337a": {
          "model_module": "@jupyter-widgets/base",
          "model_name": "LayoutModel",
          "state": {
            "_view_name": "LayoutView",
            "grid_template_rows": null,
            "right": null,
            "justify_content": null,
            "_view_module": "@jupyter-widgets/base",
            "overflow": null,
            "_model_module_version": "1.2.0",
            "_view_count": null,
            "flex_flow": null,
            "width": null,
            "min_width": null,
            "border": null,
            "align_items": null,
            "bottom": null,
            "_model_module": "@jupyter-widgets/base",
            "top": null,
            "grid_column": null,
            "overflow_y": null,
            "overflow_x": null,
            "grid_auto_flow": null,
            "grid_area": null,
            "grid_template_columns": null,
            "flex": null,
            "_model_name": "LayoutModel",
            "justify_items": null,
            "grid_row": null,
            "max_height": null,
            "align_content": null,
            "visibility": null,
            "align_self": null,
            "height": null,
            "min_height": null,
            "padding": null,
            "grid_auto_rows": null,
            "grid_gap": null,
            "max_width": null,
            "order": null,
            "_view_module_version": "1.2.0",
            "grid_template_areas": null,
            "object_position": null,
            "object_fit": null,
            "grid_auto_columns": null,
            "margin": null,
            "display": null,
            "left": null
          }
        },
        "15fd207de43741b1b768c4ab9147217b": {
          "model_module": "@jupyter-widgets/controls",
          "model_name": "DescriptionStyleModel",
          "state": {
            "_view_name": "StyleView",
            "_model_name": "DescriptionStyleModel",
            "description_width": "",
            "_view_module": "@jupyter-widgets/base",
            "_model_module_version": "1.5.0",
            "_view_count": null,
            "_view_module_version": "1.2.0",
            "_model_module": "@jupyter-widgets/controls"
          }
        },
        "51ce3de3863b438f9ea08ec68385690c": {
          "model_module": "@jupyter-widgets/base",
          "model_name": "LayoutModel",
          "state": {
            "_view_name": "LayoutView",
            "grid_template_rows": null,
            "right": null,
            "justify_content": null,
            "_view_module": "@jupyter-widgets/base",
            "overflow": null,
            "_model_module_version": "1.2.0",
            "_view_count": null,
            "flex_flow": null,
            "width": null,
            "min_width": null,
            "border": null,
            "align_items": null,
            "bottom": null,
            "_model_module": "@jupyter-widgets/base",
            "top": null,
            "grid_column": null,
            "overflow_y": null,
            "overflow_x": null,
            "grid_auto_flow": null,
            "grid_area": null,
            "grid_template_columns": null,
            "flex": null,
            "_model_name": "LayoutModel",
            "justify_items": null,
            "grid_row": null,
            "max_height": null,
            "align_content": null,
            "visibility": null,
            "align_self": null,
            "height": null,
            "min_height": null,
            "padding": null,
            "grid_auto_rows": null,
            "grid_gap": null,
            "max_width": null,
            "order": null,
            "_view_module_version": "1.2.0",
            "grid_template_areas": null,
            "object_position": null,
            "object_fit": null,
            "grid_auto_columns": null,
            "margin": null,
            "display": null,
            "left": null
          }
        },
        "3a14c08b6ccd4c10b5d09e3f77c143f5": {
          "model_module": "@jupyter-widgets/controls",
          "model_name": "HBoxModel",
          "state": {
            "_view_name": "HBoxView",
            "_dom_classes": [],
            "_model_name": "HBoxModel",
            "_view_module": "@jupyter-widgets/controls",
            "_model_module_version": "1.5.0",
            "_view_count": null,
            "_view_module_version": "1.5.0",
            "box_style": "",
            "layout": "IPY_MODEL_0d969fca76334c21abb6e145c1f0f167",
            "_model_module": "@jupyter-widgets/controls",
            "children": [
              "IPY_MODEL_9b3d5a5f403842a4bf8fc08b0a2ea9c3",
              "IPY_MODEL_1d34a7d0fdb8420f8fbd4eec965efd39"
            ]
          }
        },
        "0d969fca76334c21abb6e145c1f0f167": {
          "model_module": "@jupyter-widgets/base",
          "model_name": "LayoutModel",
          "state": {
            "_view_name": "LayoutView",
            "grid_template_rows": null,
            "right": null,
            "justify_content": null,
            "_view_module": "@jupyter-widgets/base",
            "overflow": null,
            "_model_module_version": "1.2.0",
            "_view_count": null,
            "flex_flow": null,
            "width": null,
            "min_width": null,
            "border": null,
            "align_items": null,
            "bottom": null,
            "_model_module": "@jupyter-widgets/base",
            "top": null,
            "grid_column": null,
            "overflow_y": null,
            "overflow_x": null,
            "grid_auto_flow": null,
            "grid_area": null,
            "grid_template_columns": null,
            "flex": null,
            "_model_name": "LayoutModel",
            "justify_items": null,
            "grid_row": null,
            "max_height": null,
            "align_content": null,
            "visibility": null,
            "align_self": null,
            "height": null,
            "min_height": null,
            "padding": null,
            "grid_auto_rows": null,
            "grid_gap": null,
            "max_width": null,
            "order": null,
            "_view_module_version": "1.2.0",
            "grid_template_areas": null,
            "object_position": null,
            "object_fit": null,
            "grid_auto_columns": null,
            "margin": null,
            "display": null,
            "left": null
          }
        },
        "9b3d5a5f403842a4bf8fc08b0a2ea9c3": {
          "model_module": "@jupyter-widgets/controls",
          "model_name": "FloatProgressModel",
          "state": {
            "_view_name": "ProgressView",
            "style": "IPY_MODEL_5da0334c11ca44a6989e689cf3c6ee30",
            "_dom_classes": [],
            "description": "Downloading: 100%",
            "_model_name": "FloatProgressModel",
            "bar_style": "success",
            "max": 466062,
            "_view_module": "@jupyter-widgets/controls",
            "_model_module_version": "1.5.0",
            "value": 466062,
            "_view_count": null,
            "_view_module_version": "1.5.0",
            "orientation": "horizontal",
            "min": 0,
            "description_tooltip": null,
            "_model_module": "@jupyter-widgets/controls",
            "layout": "IPY_MODEL_deb55507b4824cfc8f60c06bbf260cc4"
          }
        },
        "1d34a7d0fdb8420f8fbd4eec965efd39": {
          "model_module": "@jupyter-widgets/controls",
          "model_name": "HTMLModel",
          "state": {
            "_view_name": "HTMLView",
            "style": "IPY_MODEL_493622da71214f98b012a55d7fafbbc2",
            "_dom_classes": [],
            "description": "",
            "_model_name": "HTMLModel",
            "placeholder": "​",
            "_view_module": "@jupyter-widgets/controls",
            "_model_module_version": "1.5.0",
            "value": " 466k/466k [00:00&lt;00:00, 4.54MB/s]",
            "_view_count": null,
            "_view_module_version": "1.5.0",
            "description_tooltip": null,
            "_model_module": "@jupyter-widgets/controls",
            "layout": "IPY_MODEL_a6d49a611b064808b7daf244f7582e2c"
          }
        },
        "5da0334c11ca44a6989e689cf3c6ee30": {
          "model_module": "@jupyter-widgets/controls",
          "model_name": "ProgressStyleModel",
          "state": {
            "_view_name": "StyleView",
            "_model_name": "ProgressStyleModel",
            "description_width": "initial",
            "_view_module": "@jupyter-widgets/base",
            "_model_module_version": "1.5.0",
            "_view_count": null,
            "_view_module_version": "1.2.0",
            "bar_color": null,
            "_model_module": "@jupyter-widgets/controls"
          }
        },
        "deb55507b4824cfc8f60c06bbf260cc4": {
          "model_module": "@jupyter-widgets/base",
          "model_name": "LayoutModel",
          "state": {
            "_view_name": "LayoutView",
            "grid_template_rows": null,
            "right": null,
            "justify_content": null,
            "_view_module": "@jupyter-widgets/base",
            "overflow": null,
            "_model_module_version": "1.2.0",
            "_view_count": null,
            "flex_flow": null,
            "width": null,
            "min_width": null,
            "border": null,
            "align_items": null,
            "bottom": null,
            "_model_module": "@jupyter-widgets/base",
            "top": null,
            "grid_column": null,
            "overflow_y": null,
            "overflow_x": null,
            "grid_auto_flow": null,
            "grid_area": null,
            "grid_template_columns": null,
            "flex": null,
            "_model_name": "LayoutModel",
            "justify_items": null,
            "grid_row": null,
            "max_height": null,
            "align_content": null,
            "visibility": null,
            "align_self": null,
            "height": null,
            "min_height": null,
            "padding": null,
            "grid_auto_rows": null,
            "grid_gap": null,
            "max_width": null,
            "order": null,
            "_view_module_version": "1.2.0",
            "grid_template_areas": null,
            "object_position": null,
            "object_fit": null,
            "grid_auto_columns": null,
            "margin": null,
            "display": null,
            "left": null
          }
        },
        "493622da71214f98b012a55d7fafbbc2": {
          "model_module": "@jupyter-widgets/controls",
          "model_name": "DescriptionStyleModel",
          "state": {
            "_view_name": "StyleView",
            "_model_name": "DescriptionStyleModel",
            "description_width": "",
            "_view_module": "@jupyter-widgets/base",
            "_model_module_version": "1.5.0",
            "_view_count": null,
            "_view_module_version": "1.2.0",
            "_model_module": "@jupyter-widgets/controls"
          }
        },
        "a6d49a611b064808b7daf244f7582e2c": {
          "model_module": "@jupyter-widgets/base",
          "model_name": "LayoutModel",
          "state": {
            "_view_name": "LayoutView",
            "grid_template_rows": null,
            "right": null,
            "justify_content": null,
            "_view_module": "@jupyter-widgets/base",
            "overflow": null,
            "_model_module_version": "1.2.0",
            "_view_count": null,
            "flex_flow": null,
            "width": null,
            "min_width": null,
            "border": null,
            "align_items": null,
            "bottom": null,
            "_model_module": "@jupyter-widgets/base",
            "top": null,
            "grid_column": null,
            "overflow_y": null,
            "overflow_x": null,
            "grid_auto_flow": null,
            "grid_area": null,
            "grid_template_columns": null,
            "flex": null,
            "_model_name": "LayoutModel",
            "justify_items": null,
            "grid_row": null,
            "max_height": null,
            "align_content": null,
            "visibility": null,
            "align_self": null,
            "height": null,
            "min_height": null,
            "padding": null,
            "grid_auto_rows": null,
            "grid_gap": null,
            "max_width": null,
            "order": null,
            "_view_module_version": "1.2.0",
            "grid_template_areas": null,
            "object_position": null,
            "object_fit": null,
            "grid_auto_columns": null,
            "margin": null,
            "display": null,
            "left": null
          }
        },
        "8a81cdb1db4542aab58028e4b7a73bbd": {
          "model_module": "@jupyter-widgets/controls",
          "model_name": "HBoxModel",
          "state": {
            "_view_name": "HBoxView",
            "_dom_classes": [],
            "_model_name": "HBoxModel",
            "_view_module": "@jupyter-widgets/controls",
            "_model_module_version": "1.5.0",
            "_view_count": null,
            "_view_module_version": "1.5.0",
            "box_style": "",
            "layout": "IPY_MODEL_e87fd62a833c49eea35de200eb2f1684",
            "_model_module": "@jupyter-widgets/controls",
            "children": [
              "IPY_MODEL_88e2bc4b640548b6baee9cf664b7d2c4",
              "IPY_MODEL_baef1fde479f441eaa99987fcd1ad7c5"
            ]
          }
        },
        "e87fd62a833c49eea35de200eb2f1684": {
          "model_module": "@jupyter-widgets/base",
          "model_name": "LayoutModel",
          "state": {
            "_view_name": "LayoutView",
            "grid_template_rows": null,
            "right": null,
            "justify_content": null,
            "_view_module": "@jupyter-widgets/base",
            "overflow": null,
            "_model_module_version": "1.2.0",
            "_view_count": null,
            "flex_flow": null,
            "width": null,
            "min_width": null,
            "border": null,
            "align_items": null,
            "bottom": null,
            "_model_module": "@jupyter-widgets/base",
            "top": null,
            "grid_column": null,
            "overflow_y": null,
            "overflow_x": null,
            "grid_auto_flow": null,
            "grid_area": null,
            "grid_template_columns": null,
            "flex": null,
            "_model_name": "LayoutModel",
            "justify_items": null,
            "grid_row": null,
            "max_height": null,
            "align_content": null,
            "visibility": null,
            "align_self": null,
            "height": null,
            "min_height": null,
            "padding": null,
            "grid_auto_rows": null,
            "grid_gap": null,
            "max_width": null,
            "order": null,
            "_view_module_version": "1.2.0",
            "grid_template_areas": null,
            "object_position": null,
            "object_fit": null,
            "grid_auto_columns": null,
            "margin": null,
            "display": null,
            "left": null
          }
        },
        "88e2bc4b640548b6baee9cf664b7d2c4": {
          "model_module": "@jupyter-widgets/controls",
          "model_name": "FloatProgressModel",
          "state": {
            "_view_name": "ProgressView",
            "style": "IPY_MODEL_f0feefd8d9b64153a23c2586d51fdc3d",
            "_dom_classes": [],
            "description": "Downloading: 100%",
            "_model_name": "FloatProgressModel",
            "bar_style": "success",
            "max": 570,
            "_view_module": "@jupyter-widgets/controls",
            "_model_module_version": "1.5.0",
            "value": 570,
            "_view_count": null,
            "_view_module_version": "1.5.0",
            "orientation": "horizontal",
            "min": 0,
            "description_tooltip": null,
            "_model_module": "@jupyter-widgets/controls",
            "layout": "IPY_MODEL_59870d18b90d483da4030620fddb0e3a"
          }
        },
        "baef1fde479f441eaa99987fcd1ad7c5": {
          "model_module": "@jupyter-widgets/controls",
          "model_name": "HTMLModel",
          "state": {
            "_view_name": "HTMLView",
            "style": "IPY_MODEL_31135df54ccb45a8b8e324fae7b7e234",
            "_dom_classes": [],
            "description": "",
            "_model_name": "HTMLModel",
            "placeholder": "​",
            "_view_module": "@jupyter-widgets/controls",
            "_model_module_version": "1.5.0",
            "value": " 570/570 [00:00&lt;00:00, 1.21kB/s]",
            "_view_count": null,
            "_view_module_version": "1.5.0",
            "description_tooltip": null,
            "_model_module": "@jupyter-widgets/controls",
            "layout": "IPY_MODEL_6583308336cc404f8ba340e7e7152450"
          }
        },
        "f0feefd8d9b64153a23c2586d51fdc3d": {
          "model_module": "@jupyter-widgets/controls",
          "model_name": "ProgressStyleModel",
          "state": {
            "_view_name": "StyleView",
            "_model_name": "ProgressStyleModel",
            "description_width": "initial",
            "_view_module": "@jupyter-widgets/base",
            "_model_module_version": "1.5.0",
            "_view_count": null,
            "_view_module_version": "1.2.0",
            "bar_color": null,
            "_model_module": "@jupyter-widgets/controls"
          }
        },
        "59870d18b90d483da4030620fddb0e3a": {
          "model_module": "@jupyter-widgets/base",
          "model_name": "LayoutModel",
          "state": {
            "_view_name": "LayoutView",
            "grid_template_rows": null,
            "right": null,
            "justify_content": null,
            "_view_module": "@jupyter-widgets/base",
            "overflow": null,
            "_model_module_version": "1.2.0",
            "_view_count": null,
            "flex_flow": null,
            "width": null,
            "min_width": null,
            "border": null,
            "align_items": null,
            "bottom": null,
            "_model_module": "@jupyter-widgets/base",
            "top": null,
            "grid_column": null,
            "overflow_y": null,
            "overflow_x": null,
            "grid_auto_flow": null,
            "grid_area": null,
            "grid_template_columns": null,
            "flex": null,
            "_model_name": "LayoutModel",
            "justify_items": null,
            "grid_row": null,
            "max_height": null,
            "align_content": null,
            "visibility": null,
            "align_self": null,
            "height": null,
            "min_height": null,
            "padding": null,
            "grid_auto_rows": null,
            "grid_gap": null,
            "max_width": null,
            "order": null,
            "_view_module_version": "1.2.0",
            "grid_template_areas": null,
            "object_position": null,
            "object_fit": null,
            "grid_auto_columns": null,
            "margin": null,
            "display": null,
            "left": null
          }
        },
        "31135df54ccb45a8b8e324fae7b7e234": {
          "model_module": "@jupyter-widgets/controls",
          "model_name": "DescriptionStyleModel",
          "state": {
            "_view_name": "StyleView",
            "_model_name": "DescriptionStyleModel",
            "description_width": "",
            "_view_module": "@jupyter-widgets/base",
            "_model_module_version": "1.5.0",
            "_view_count": null,
            "_view_module_version": "1.2.0",
            "_model_module": "@jupyter-widgets/controls"
          }
        },
        "6583308336cc404f8ba340e7e7152450": {
          "model_module": "@jupyter-widgets/base",
          "model_name": "LayoutModel",
          "state": {
            "_view_name": "LayoutView",
            "grid_template_rows": null,
            "right": null,
            "justify_content": null,
            "_view_module": "@jupyter-widgets/base",
            "overflow": null,
            "_model_module_version": "1.2.0",
            "_view_count": null,
            "flex_flow": null,
            "width": null,
            "min_width": null,
            "border": null,
            "align_items": null,
            "bottom": null,
            "_model_module": "@jupyter-widgets/base",
            "top": null,
            "grid_column": null,
            "overflow_y": null,
            "overflow_x": null,
            "grid_auto_flow": null,
            "grid_area": null,
            "grid_template_columns": null,
            "flex": null,
            "_model_name": "LayoutModel",
            "justify_items": null,
            "grid_row": null,
            "max_height": null,
            "align_content": null,
            "visibility": null,
            "align_self": null,
            "height": null,
            "min_height": null,
            "padding": null,
            "grid_auto_rows": null,
            "grid_gap": null,
            "max_width": null,
            "order": null,
            "_view_module_version": "1.2.0",
            "grid_template_areas": null,
            "object_position": null,
            "object_fit": null,
            "grid_auto_columns": null,
            "margin": null,
            "display": null,
            "left": null
          }
        },
        "d071d21c6c6d454ca8881fa0ae344345": {
          "model_module": "@jupyter-widgets/controls",
          "model_name": "HBoxModel",
          "state": {
            "_view_name": "HBoxView",
            "_dom_classes": [],
            "_model_name": "HBoxModel",
            "_view_module": "@jupyter-widgets/controls",
            "_model_module_version": "1.5.0",
            "_view_count": null,
            "_view_module_version": "1.5.0",
            "box_style": "",
            "layout": "IPY_MODEL_1d87ad3c800241419622d5f47ad20a8a",
            "_model_module": "@jupyter-widgets/controls",
            "children": [
              "IPY_MODEL_83e6a9b4ba3a424490de50c620994463",
              "IPY_MODEL_ed2915b54caf4e0d8c0e91dcc9b36248"
            ]
          }
        },
        "1d87ad3c800241419622d5f47ad20a8a": {
          "model_module": "@jupyter-widgets/base",
          "model_name": "LayoutModel",
          "state": {
            "_view_name": "LayoutView",
            "grid_template_rows": null,
            "right": null,
            "justify_content": null,
            "_view_module": "@jupyter-widgets/base",
            "overflow": null,
            "_model_module_version": "1.2.0",
            "_view_count": null,
            "flex_flow": null,
            "width": null,
            "min_width": null,
            "border": null,
            "align_items": null,
            "bottom": null,
            "_model_module": "@jupyter-widgets/base",
            "top": null,
            "grid_column": null,
            "overflow_y": null,
            "overflow_x": null,
            "grid_auto_flow": null,
            "grid_area": null,
            "grid_template_columns": null,
            "flex": null,
            "_model_name": "LayoutModel",
            "justify_items": null,
            "grid_row": null,
            "max_height": null,
            "align_content": null,
            "visibility": null,
            "align_self": null,
            "height": null,
            "min_height": null,
            "padding": null,
            "grid_auto_rows": null,
            "grid_gap": null,
            "max_width": null,
            "order": null,
            "_view_module_version": "1.2.0",
            "grid_template_areas": null,
            "object_position": null,
            "object_fit": null,
            "grid_auto_columns": null,
            "margin": null,
            "display": null,
            "left": null
          }
        },
        "83e6a9b4ba3a424490de50c620994463": {
          "model_module": "@jupyter-widgets/controls",
          "model_name": "FloatProgressModel",
          "state": {
            "_view_name": "ProgressView",
            "style": "IPY_MODEL_2e80e0deeb804dea8d8a17cc4f391f60",
            "_dom_classes": [],
            "description": "Downloading: 100%",
            "_model_name": "FloatProgressModel",
            "bar_style": "success",
            "max": 440473133,
            "_view_module": "@jupyter-widgets/controls",
            "_model_module_version": "1.5.0",
            "value": 440473133,
            "_view_count": null,
            "_view_module_version": "1.5.0",
            "orientation": "horizontal",
            "min": 0,
            "description_tooltip": null,
            "_model_module": "@jupyter-widgets/controls",
            "layout": "IPY_MODEL_f8d4be0080c2448c9eca4f1b2a529238"
          }
        },
        "ed2915b54caf4e0d8c0e91dcc9b36248": {
          "model_module": "@jupyter-widgets/controls",
          "model_name": "HTMLModel",
          "state": {
            "_view_name": "HTMLView",
            "style": "IPY_MODEL_d1569ebd20214c4e8cf4e6c6e38e1893",
            "_dom_classes": [],
            "description": "",
            "_model_name": "HTMLModel",
            "placeholder": "​",
            "_view_module": "@jupyter-widgets/controls",
            "_model_module_version": "1.5.0",
            "value": " 440M/440M [00:11&lt;00:00, 36.8MB/s]",
            "_view_count": null,
            "_view_module_version": "1.5.0",
            "description_tooltip": null,
            "_model_module": "@jupyter-widgets/controls",
            "layout": "IPY_MODEL_106ebe2da0b24d3da58243a587ed5451"
          }
        },
        "2e80e0deeb804dea8d8a17cc4f391f60": {
          "model_module": "@jupyter-widgets/controls",
          "model_name": "ProgressStyleModel",
          "state": {
            "_view_name": "StyleView",
            "_model_name": "ProgressStyleModel",
            "description_width": "initial",
            "_view_module": "@jupyter-widgets/base",
            "_model_module_version": "1.5.0",
            "_view_count": null,
            "_view_module_version": "1.2.0",
            "bar_color": null,
            "_model_module": "@jupyter-widgets/controls"
          }
        },
        "f8d4be0080c2448c9eca4f1b2a529238": {
          "model_module": "@jupyter-widgets/base",
          "model_name": "LayoutModel",
          "state": {
            "_view_name": "LayoutView",
            "grid_template_rows": null,
            "right": null,
            "justify_content": null,
            "_view_module": "@jupyter-widgets/base",
            "overflow": null,
            "_model_module_version": "1.2.0",
            "_view_count": null,
            "flex_flow": null,
            "width": null,
            "min_width": null,
            "border": null,
            "align_items": null,
            "bottom": null,
            "_model_module": "@jupyter-widgets/base",
            "top": null,
            "grid_column": null,
            "overflow_y": null,
            "overflow_x": null,
            "grid_auto_flow": null,
            "grid_area": null,
            "grid_template_columns": null,
            "flex": null,
            "_model_name": "LayoutModel",
            "justify_items": null,
            "grid_row": null,
            "max_height": null,
            "align_content": null,
            "visibility": null,
            "align_self": null,
            "height": null,
            "min_height": null,
            "padding": null,
            "grid_auto_rows": null,
            "grid_gap": null,
            "max_width": null,
            "order": null,
            "_view_module_version": "1.2.0",
            "grid_template_areas": null,
            "object_position": null,
            "object_fit": null,
            "grid_auto_columns": null,
            "margin": null,
            "display": null,
            "left": null
          }
        },
        "d1569ebd20214c4e8cf4e6c6e38e1893": {
          "model_module": "@jupyter-widgets/controls",
          "model_name": "DescriptionStyleModel",
          "state": {
            "_view_name": "StyleView",
            "_model_name": "DescriptionStyleModel",
            "description_width": "",
            "_view_module": "@jupyter-widgets/base",
            "_model_module_version": "1.5.0",
            "_view_count": null,
            "_view_module_version": "1.2.0",
            "_model_module": "@jupyter-widgets/controls"
          }
        },
        "106ebe2da0b24d3da58243a587ed5451": {
          "model_module": "@jupyter-widgets/base",
          "model_name": "LayoutModel",
          "state": {
            "_view_name": "LayoutView",
            "grid_template_rows": null,
            "right": null,
            "justify_content": null,
            "_view_module": "@jupyter-widgets/base",
            "overflow": null,
            "_model_module_version": "1.2.0",
            "_view_count": null,
            "flex_flow": null,
            "width": null,
            "min_width": null,
            "border": null,
            "align_items": null,
            "bottom": null,
            "_model_module": "@jupyter-widgets/base",
            "top": null,
            "grid_column": null,
            "overflow_y": null,
            "overflow_x": null,
            "grid_auto_flow": null,
            "grid_area": null,
            "grid_template_columns": null,
            "flex": null,
            "_model_name": "LayoutModel",
            "justify_items": null,
            "grid_row": null,
            "max_height": null,
            "align_content": null,
            "visibility": null,
            "align_self": null,
            "height": null,
            "min_height": null,
            "padding": null,
            "grid_auto_rows": null,
            "grid_gap": null,
            "max_width": null,
            "order": null,
            "_view_module_version": "1.2.0",
            "grid_template_areas": null,
            "object_position": null,
            "object_fit": null,
            "grid_auto_columns": null,
            "margin": null,
            "display": null,
            "left": null
          }
        }
      }
    }
  },
  "cells": [
    {
      "cell_type": "markdown",
      "metadata": {
        "papermill": {
          "duration": 0.053293,
          "end_time": "2021-05-29T15:31:29.816882",
          "exception": false,
          "start_time": "2021-05-29T15:31:29.763589",
          "status": "completed"
        },
        "tags": [],
        "id": "honest-footwear"
      },
      "source": [
        "**SETUP**"
      ],
      "id": "honest-footwear"
    },
    {
      "cell_type": "code",
      "metadata": {
        "execution": {
          "iopub.execute_input": "2021-05-29T15:31:29.932926Z",
          "iopub.status.busy": "2021-05-29T15:31:29.932361Z",
          "iopub.status.idle": "2021-05-29T15:31:37.378751Z",
          "shell.execute_reply": "2021-05-29T15:31:37.377765Z",
          "shell.execute_reply.started": "2021-05-29T15:03:23.235571Z"
        },
        "papermill": {
          "duration": 7.50864,
          "end_time": "2021-05-29T15:31:37.378913",
          "exception": false,
          "start_time": "2021-05-29T15:31:29.870273",
          "status": "completed"
        },
        "tags": [],
        "colab": {
          "base_uri": "https://localhost:8080/"
        },
        "id": "perfect-function",
        "outputId": "50183c7e-24f0-4d1b-e0f8-760850236b9a"
      },
      "source": [
        "!pip install transformers"
      ],
      "id": "perfect-function",
      "execution_count": null,
      "outputs": [
        {
          "output_type": "stream",
          "text": [
            "Requirement already satisfied: transformers in /usr/local/lib/python3.7/dist-packages (4.6.1)\n",
            "Requirement already satisfied: tqdm>=4.27 in /usr/local/lib/python3.7/dist-packages (from transformers) (4.41.1)\n",
            "Requirement already satisfied: importlib-metadata; python_version < \"3.8\" in /usr/local/lib/python3.7/dist-packages (from transformers) (4.5.0)\n",
            "Requirement already satisfied: tokenizers<0.11,>=0.10.1 in /usr/local/lib/python3.7/dist-packages (from transformers) (0.10.3)\n",
            "Requirement already satisfied: packaging in /usr/local/lib/python3.7/dist-packages (from transformers) (20.9)\n",
            "Requirement already satisfied: requests in /usr/local/lib/python3.7/dist-packages (from transformers) (2.23.0)\n",
            "Requirement already satisfied: numpy>=1.17 in /usr/local/lib/python3.7/dist-packages (from transformers) (1.19.5)\n",
            "Requirement already satisfied: huggingface-hub==0.0.8 in /usr/local/lib/python3.7/dist-packages (from transformers) (0.0.8)\n",
            "Requirement already satisfied: sacremoses in /usr/local/lib/python3.7/dist-packages (from transformers) (0.0.45)\n",
            "Requirement already satisfied: filelock in /usr/local/lib/python3.7/dist-packages (from transformers) (3.0.12)\n",
            "Requirement already satisfied: regex!=2019.12.17 in /usr/local/lib/python3.7/dist-packages (from transformers) (2019.12.20)\n",
            "Requirement already satisfied: typing-extensions>=3.6.4; python_version < \"3.8\" in /usr/local/lib/python3.7/dist-packages (from importlib-metadata; python_version < \"3.8\"->transformers) (3.7.4.3)\n",
            "Requirement already satisfied: zipp>=0.5 in /usr/local/lib/python3.7/dist-packages (from importlib-metadata; python_version < \"3.8\"->transformers) (3.4.1)\n",
            "Requirement already satisfied: pyparsing>=2.0.2 in /usr/local/lib/python3.7/dist-packages (from packaging->transformers) (2.4.7)\n",
            "Requirement already satisfied: idna<3,>=2.5 in /usr/local/lib/python3.7/dist-packages (from requests->transformers) (2.10)\n",
            "Requirement already satisfied: certifi>=2017.4.17 in /usr/local/lib/python3.7/dist-packages (from requests->transformers) (2021.5.30)\n",
            "Requirement already satisfied: chardet<4,>=3.0.2 in /usr/local/lib/python3.7/dist-packages (from requests->transformers) (3.0.4)\n",
            "Requirement already satisfied: urllib3!=1.25.0,!=1.25.1,<1.26,>=1.21.1 in /usr/local/lib/python3.7/dist-packages (from requests->transformers) (1.24.3)\n",
            "Requirement already satisfied: joblib in /usr/local/lib/python3.7/dist-packages (from sacremoses->transformers) (1.0.1)\n",
            "Requirement already satisfied: click in /usr/local/lib/python3.7/dist-packages (from sacremoses->transformers) (7.1.2)\n",
            "Requirement already satisfied: six in /usr/local/lib/python3.7/dist-packages (from sacremoses->transformers) (1.15.0)\n"
          ],
          "name": "stdout"
        }
      ]
    },
    {
      "cell_type": "code",
      "metadata": {
        "colab": {
          "base_uri": "https://localhost:8080/"
        },
        "id": "KUUupAIvQwLF",
        "outputId": "204b7209-9fdf-41cb-ce07-1714cc6794f7"
      },
      "source": [
        "!ls"
      ],
      "id": "KUUupAIvQwLF",
      "execution_count": null,
      "outputs": [
        {
          "output_type": "stream",
          "text": [
            "adc.json  gdrive  sample_data\n"
          ],
          "name": "stdout"
        }
      ]
    },
    {
      "cell_type": "code",
      "metadata": {
        "colab": {
          "base_uri": "https://localhost:8080/"
        },
        "id": "hz9X0hYgSEFc",
        "outputId": "b09683bb-0314-41a9-92a8-581fba7aad84"
      },
      "source": [
        "from google.colab import drive\n",
        "drive.mount('/content/gdrive')"
      ],
      "id": "hz9X0hYgSEFc",
      "execution_count": null,
      "outputs": [
        {
          "output_type": "stream",
          "text": [
            "Drive already mounted at /content/gdrive; to attempt to forcibly remount, call drive.mount(\"/content/gdrive\", force_remount=True).\n"
          ],
          "name": "stdout"
        }
      ]
    },
    {
      "cell_type": "code",
      "metadata": {
        "id": "zSJsFF4HSFO2"
      },
      "source": [
        "from pydrive.auth import GoogleAuth\n",
        "from pydrive.drive import GoogleDrive\n",
        "from google.colab import auth\n",
        "from oauth2client.client import GoogleCredentials\n",
        "\n",
        "# Authenticate and create the PyDrive client.\n",
        "# This only needs to be done once per notebook.\n",
        "auth.authenticate_user()\n",
        "gauth = GoogleAuth()\n",
        "gauth.credentials = GoogleCredentials.get_application_default()\n",
        "drive = GoogleDrive(gauth)"
      ],
      "id": "zSJsFF4HSFO2",
      "execution_count": null,
      "outputs": []
    },
    {
      "cell_type": "code",
      "metadata": {
        "id": "lLpbctcMSiB6",
        "colab": {
          "base_uri": "https://localhost:8080/"
        },
        "outputId": "b596400b-ecc7-4d9e-bb46-e3bafdb913cf"
      },
      "source": [
        "%cd 'gdrive'/'MyDrive'/'Twitter_Covid_Vaccines_Sentiment_Analysis'"
      ],
      "id": "lLpbctcMSiB6",
      "execution_count": null,
      "outputs": [
        {
          "output_type": "stream",
          "text": [
            "/content/gdrive/.shortcut-targets-by-id/156l-fO03DiUjefitR99KDzPRDrhD0Zwj/Twitter_Covid_Vaccines_Sentiment_Analysis\n"
          ],
          "name": "stdout"
        }
      ]
    },
    {
      "cell_type": "code",
      "metadata": {
        "_cell_guid": "b1076dfc-b9ad-4769-8c92-a6c4dae69d19",
        "_uuid": "8f2839f25d086af736a60e9eeb907d3b93b6e0e5",
        "execution": {
          "iopub.execute_input": "2021-05-29T15:31:37.493444Z",
          "iopub.status.busy": "2021-05-29T15:31:37.492752Z",
          "iopub.status.idle": "2021-05-29T15:31:44.647235Z",
          "shell.execute_reply": "2021-05-29T15:31:44.646778Z",
          "shell.execute_reply.started": "2021-05-29T15:03:32.451608Z"
        },
        "papermill": {
          "duration": 7.213186,
          "end_time": "2021-05-29T15:31:44.647373",
          "exception": false,
          "start_time": "2021-05-29T15:31:37.434187",
          "status": "completed"
        },
        "tags": [],
        "id": "humanitarian-intent"
      },
      "source": [
        "import re\n",
        "import numpy as np\n",
        "import pandas as pd\n",
        "import os, json\n",
        "import torch\n",
        "from sklearn.model_selection import train_test_split\n",
        "import tensorflow as tf\n",
        "import seaborn as sns\n",
        "import matplotlib.pyplot as plt"
      ],
      "id": "humanitarian-intent",
      "execution_count": null,
      "outputs": []
    },
    {
      "cell_type": "code",
      "metadata": {
        "execution": {
          "iopub.execute_input": "2021-05-29T15:31:44.815217Z",
          "iopub.status.busy": "2021-05-29T15:31:44.814606Z",
          "iopub.status.idle": "2021-05-29T15:31:44.819874Z",
          "shell.execute_reply": "2021-05-29T15:31:44.819435Z",
          "shell.execute_reply.started": "2021-05-29T15:03:40.714369Z"
        },
        "papermill": {
          "duration": 0.118671,
          "end_time": "2021-05-29T15:31:44.820000",
          "exception": false,
          "start_time": "2021-05-29T15:31:44.701329",
          "status": "completed"
        },
        "tags": [],
        "colab": {
          "base_uri": "https://localhost:8080/"
        },
        "id": "practical-characterization",
        "outputId": "417eb9a7-9303-4404-c3fa-7a046465aaa6"
      },
      "source": [
        "import torch\n",
        "\n",
        "if torch.cuda.is_available():    \n",
        "\n",
        "    device = torch.device(\"cuda\")\n",
        "else:\n",
        "    print('No GPU available, using the CPU instead.')\n",
        "    device = torch.device(\"cpu\")"
      ],
      "id": "practical-characterization",
      "execution_count": null,
      "outputs": [
        {
          "output_type": "stream",
          "text": [
            "There are 1 GPU(s) available.\n",
            "We will use the GPU: Tesla T4\n"
          ],
          "name": "stdout"
        }
      ]
    },
    {
      "cell_type": "markdown",
      "metadata": {
        "papermill": {
          "duration": 0.054023,
          "end_time": "2021-05-29T15:31:44.928212",
          "exception": false,
          "start_time": "2021-05-29T15:31:44.874189",
          "status": "completed"
        },
        "tags": [],
        "id": "faced-klein"
      },
      "source": [
        "# Training the model"
      ],
      "id": "faced-klein"
    },
    {
      "cell_type": "code",
      "metadata": {
        "colab": {
          "base_uri": "https://localhost:8080/"
        },
        "id": "PSYP7OmFRhl1",
        "outputId": "46d6b075-8645-4f55-ec9b-08aef3ae68b5"
      },
      "source": [
        "!ls"
      ],
      "id": "PSYP7OmFRhl1",
      "execution_count": null,
      "outputs": [
        {
          "output_type": "stream",
          "text": [
            "Datasets       Misc\t  Real_time_twitter_data\n",
            "kafka-project  model.png  Trained_models\n"
          ],
          "name": "stdout"
        }
      ]
    },
    {
      "cell_type": "code",
      "metadata": {
        "execution": {
          "iopub.execute_input": "2021-05-29T15:31:45.161368Z",
          "iopub.status.busy": "2021-05-29T15:31:45.160801Z",
          "iopub.status.idle": "2021-05-29T15:31:45.478846Z",
          "shell.execute_reply": "2021-05-29T15:31:45.478178Z",
          "shell.execute_reply.started": "2021-05-29T15:03:40.777285Z"
        },
        "papermill": {
          "duration": 0.387519,
          "end_time": "2021-05-29T15:31:45.478984",
          "exception": false,
          "start_time": "2021-05-29T15:31:45.091465",
          "status": "completed"
        },
        "tags": [],
        "colab": {
          "base_uri": "https://localhost:8080/",
          "height": 293
        },
        "id": "local-magic",
        "outputId": "0e73b8be-ec0d-49d9-c547-1a26cea9501e"
      },
      "source": [
        "df= pd.read_csv('Datasets/tweet_dataset.csv')\n",
        "df.head()"
      ],
      "id": "local-magic",
      "execution_count": null,
      "outputs": [
        {
          "output_type": "execute_result",
          "data": {
            "text/html": [
              "<div>\n",
              "<style scoped>\n",
              "    .dataframe tbody tr th:only-of-type {\n",
              "        vertical-align: middle;\n",
              "    }\n",
              "\n",
              "    .dataframe tbody tr th {\n",
              "        vertical-align: top;\n",
              "    }\n",
              "\n",
              "    .dataframe thead th {\n",
              "        text-align: right;\n",
              "    }\n",
              "</style>\n",
              "<table border=\"1\" class=\"dataframe\">\n",
              "  <thead>\n",
              "    <tr style=\"text-align: right;\">\n",
              "      <th></th>\n",
              "      <th>textID</th>\n",
              "      <th>sentiment</th>\n",
              "      <th>author</th>\n",
              "      <th>text</th>\n",
              "      <th>old_text</th>\n",
              "      <th>aux_id</th>\n",
              "      <th>new_sentiment</th>\n",
              "      <th>selected_text</th>\n",
              "    </tr>\n",
              "  </thead>\n",
              "  <tbody>\n",
              "    <tr>\n",
              "      <th>0</th>\n",
              "      <td>1956967341</td>\n",
              "      <td>empty</td>\n",
              "      <td>xoshayzers</td>\n",
              "      <td>i know  i was listenin to bad habit earlier a...</td>\n",
              "      <td>@tiffanylue i know  i was listenin to bad habi...</td>\n",
              "      <td>p1000000000</td>\n",
              "      <td>NaN</td>\n",
              "      <td>NaN</td>\n",
              "    </tr>\n",
              "    <tr>\n",
              "      <th>1</th>\n",
              "      <td>1956967666</td>\n",
              "      <td>sadness</td>\n",
              "      <td>wannamama</td>\n",
              "      <td>Layin n bed with a headache  ughhhh...waitin o...</td>\n",
              "      <td>Layin n bed with a headache  ughhhh...waitin o...</td>\n",
              "      <td>c811396dc2</td>\n",
              "      <td>negative</td>\n",
              "      <td>headache</td>\n",
              "    </tr>\n",
              "    <tr>\n",
              "      <th>2</th>\n",
              "      <td>1956967696</td>\n",
              "      <td>sadness</td>\n",
              "      <td>coolfunky</td>\n",
              "      <td>Funeral ceremony...gloomy friday...</td>\n",
              "      <td>Funeral ceremony...gloomy friday...</td>\n",
              "      <td>9063631ab1</td>\n",
              "      <td>negative</td>\n",
              "      <td>gloomy</td>\n",
              "    </tr>\n",
              "    <tr>\n",
              "      <th>3</th>\n",
              "      <td>1956967789</td>\n",
              "      <td>enthusiasm</td>\n",
              "      <td>czareaquino</td>\n",
              "      <td>wants to hang out with friends SOON!</td>\n",
              "      <td>wants to hang out with friends SOON!</td>\n",
              "      <td>2a815f151d</td>\n",
              "      <td>positive</td>\n",
              "      <td>wants to hang out with friends SOON!</td>\n",
              "    </tr>\n",
              "    <tr>\n",
              "      <th>4</th>\n",
              "      <td>1956968416</td>\n",
              "      <td>neutral</td>\n",
              "      <td>xkilljoyx</td>\n",
              "      <td>We want to trade with someone who has Houston...</td>\n",
              "      <td>@dannycastillo We want to trade with someone w...</td>\n",
              "      <td>82565a56d3</td>\n",
              "      <td>neutral</td>\n",
              "      <td>We want to trade with someone who has Houston ...</td>\n",
              "    </tr>\n",
              "  </tbody>\n",
              "</table>\n",
              "</div>"
            ],
            "text/plain": [
              "       textID  ...                                      selected_text\n",
              "0  1956967341  ...                                                NaN\n",
              "1  1956967666  ...                                           headache\n",
              "2  1956967696  ...                                             gloomy\n",
              "3  1956967789  ...               wants to hang out with friends SOON!\n",
              "4  1956968416  ...  We want to trade with someone who has Houston ...\n",
              "\n",
              "[5 rows x 8 columns]"
            ]
          },
          "metadata": {
            "tags": []
          },
          "execution_count": 18
        }
      ]
    },
    {
      "cell_type": "markdown",
      "metadata": {
        "papermill": {
          "duration": 0.054355,
          "end_time": "2021-05-29T15:31:45.588248",
          "exception": false,
          "start_time": "2021-05-29T15:31:45.533893",
          "status": "completed"
        },
        "tags": [],
        "id": "presidential-lunch"
      },
      "source": [
        "We select the useful coloumns from the dataset and make a new dataframe for training purpose."
      ],
      "id": "presidential-lunch"
    },
    {
      "cell_type": "code",
      "metadata": {
        "execution": {
          "iopub.execute_input": "2021-05-29T15:31:45.710061Z",
          "iopub.status.busy": "2021-05-29T15:31:45.703482Z",
          "iopub.status.idle": "2021-05-29T15:31:45.712712Z",
          "shell.execute_reply": "2021-05-29T15:31:45.712269Z",
          "shell.execute_reply.started": "2021-05-29T15:03:41.088522Z"
        },
        "papermill": {
          "duration": 0.070359,
          "end_time": "2021-05-29T15:31:45.712836",
          "exception": false,
          "start_time": "2021-05-29T15:31:45.642477",
          "status": "completed"
        },
        "tags": [],
        "id": "unexpected-chair"
      },
      "source": [
        "train= pd.DataFrame()\n",
        "train['text']= df['text']\n",
        "train['Sentiment']=df['new_sentiment']"
      ],
      "id": "unexpected-chair",
      "execution_count": null,
      "outputs": []
    },
    {
      "cell_type": "code",
      "metadata": {
        "execution": {
          "iopub.execute_input": "2021-05-29T15:31:45.827853Z",
          "iopub.status.busy": "2021-05-29T15:31:45.826886Z",
          "iopub.status.idle": "2021-05-29T15:31:45.853208Z",
          "shell.execute_reply": "2021-05-29T15:31:45.852721Z",
          "shell.execute_reply.started": "2021-05-29T15:03:41.108531Z"
        },
        "papermill": {
          "duration": 0.085476,
          "end_time": "2021-05-29T15:31:45.853345",
          "exception": false,
          "start_time": "2021-05-29T15:31:45.767869",
          "status": "completed"
        },
        "tags": [],
        "id": "nutritional-aruba"
      },
      "source": [
        "train=train.dropna()"
      ],
      "id": "nutritional-aruba",
      "execution_count": null,
      "outputs": []
    },
    {
      "cell_type": "code",
      "metadata": {
        "execution": {
          "iopub.execute_input": "2021-05-29T15:31:46.099400Z",
          "iopub.status.busy": "2021-05-29T15:31:46.097056Z",
          "iopub.status.idle": "2021-05-29T15:31:46.115973Z",
          "shell.execute_reply": "2021-05-29T15:31:46.115476Z",
          "shell.execute_reply.started": "2021-05-29T15:03:41.165117Z"
        },
        "papermill": {
          "duration": 0.0835,
          "end_time": "2021-05-29T15:31:46.116123",
          "exception": false,
          "start_time": "2021-05-29T15:31:46.032623",
          "status": "completed"
        },
        "tags": [],
        "id": "productive-international"
      },
      "source": [
        "train['Sentiment'] = train['Sentiment'].replace(['negative','neutral','positive'],[0,1,2])"
      ],
      "id": "productive-international",
      "execution_count": null,
      "outputs": []
    },
    {
      "cell_type": "markdown",
      "metadata": {
        "papermill": {
          "duration": 0.055187,
          "end_time": "2021-05-29T15:31:46.228035",
          "exception": false,
          "start_time": "2021-05-29T15:31:46.172848",
          "status": "completed"
        },
        "tags": [],
        "id": "owned-jonathan"
      },
      "source": [
        "**Importing the BERT Tokenizer**"
      ],
      "id": "owned-jonathan"
    },
    {
      "cell_type": "code",
      "metadata": {
        "execution": {
          "iopub.execute_input": "2021-05-29T15:31:46.341903Z",
          "iopub.status.busy": "2021-05-29T15:31:46.341169Z",
          "iopub.status.idle": "2021-05-29T15:31:49.797161Z",
          "shell.execute_reply": "2021-05-29T15:31:49.796664Z",
          "shell.execute_reply.started": "2021-05-29T15:03:41.196883Z"
        },
        "papermill": {
          "duration": 3.514741,
          "end_time": "2021-05-29T15:31:49.797283",
          "exception": false,
          "start_time": "2021-05-29T15:31:46.282542",
          "status": "completed"
        },
        "tags": [],
        "colab": {
          "base_uri": "https://localhost:8080/",
          "height": 183,
          "referenced_widgets": [
            "158a4fad964540d198135f0010d61070",
            "fc505c5f18024857a75ce05f37dddbf2",
            "59372d4ca22c4ffc93aadd4ea869f6e8",
            "bff30ef2b9ca49788749d10defcac139",
            "f69bedd7aff84f46bb85f30cfeeab578",
            "61919a2b20e9427c8b77e3142823e207",
            "2c92d990a5bd4620a8629db8d76c3efa",
            "385ac731f6754396b730caec08b823ca",
            "20945917000c42bbb917dc9ed618251f",
            "9622647b8dda4ac48e4c344a10bf92d7",
            "06c5d00d2c544267959c1e4390893cbf",
            "7dea2c8070074e788d693e1fb70e410f",
            "21d9db33e2c84e78a34321fa4af272aa",
            "85d4e1f5e7f24c899418d51f246f337a",
            "15fd207de43741b1b768c4ab9147217b",
            "51ce3de3863b438f9ea08ec68385690c",
            "3a14c08b6ccd4c10b5d09e3f77c143f5",
            "0d969fca76334c21abb6e145c1f0f167",
            "9b3d5a5f403842a4bf8fc08b0a2ea9c3",
            "1d34a7d0fdb8420f8fbd4eec965efd39",
            "5da0334c11ca44a6989e689cf3c6ee30",
            "deb55507b4824cfc8f60c06bbf260cc4",
            "493622da71214f98b012a55d7fafbbc2",
            "a6d49a611b064808b7daf244f7582e2c"
          ]
        },
        "id": "together-yemen",
        "outputId": "a75a395d-a12b-43ef-9f2c-0964348c56de"
      },
      "source": [
        "from transformers import BertTokenizer\n",
        "\n",
        "print('Loading BERT tokenizer...')\n",
        "tokenizer = BertTokenizer.from_pretrained('bert-base-uncased', do_lower_case=True)"
      ],
      "id": "together-yemen",
      "execution_count": null,
      "outputs": [
        {
          "output_type": "stream",
          "text": [
            "Loading BERT tokenizer...\n"
          ],
          "name": "stdout"
        },
        {
          "output_type": "display_data",
          "data": {
            "application/vnd.jupyter.widget-view+json": {
              "model_id": "158a4fad964540d198135f0010d61070",
              "version_minor": 0,
              "version_major": 2
            },
            "text/plain": [
              "HBox(children=(FloatProgress(value=0.0, description='Downloading', max=231508.0, style=ProgressStyle(descripti…"
            ]
          },
          "metadata": {
            "tags": []
          }
        },
        {
          "output_type": "stream",
          "text": [
            "\n"
          ],
          "name": "stdout"
        },
        {
          "output_type": "display_data",
          "data": {
            "application/vnd.jupyter.widget-view+json": {
              "model_id": "20945917000c42bbb917dc9ed618251f",
              "version_minor": 0,
              "version_major": 2
            },
            "text/plain": [
              "HBox(children=(FloatProgress(value=0.0, description='Downloading', max=28.0, style=ProgressStyle(description_w…"
            ]
          },
          "metadata": {
            "tags": []
          }
        },
        {
          "output_type": "stream",
          "text": [
            "\n"
          ],
          "name": "stdout"
        },
        {
          "output_type": "display_data",
          "data": {
            "application/vnd.jupyter.widget-view+json": {
              "model_id": "3a14c08b6ccd4c10b5d09e3f77c143f5",
              "version_minor": 0,
              "version_major": 2
            },
            "text/plain": [
              "HBox(children=(FloatProgress(value=0.0, description='Downloading', max=466062.0, style=ProgressStyle(descripti…"
            ]
          },
          "metadata": {
            "tags": []
          }
        },
        {
          "output_type": "stream",
          "text": [
            "\n"
          ],
          "name": "stdout"
        }
      ]
    },
    {
      "cell_type": "markdown",
      "metadata": {
        "papermill": {
          "duration": 0.056945,
          "end_time": "2021-05-29T15:31:50.155197",
          "exception": false,
          "start_time": "2021-05-29T15:31:50.098252",
          "status": "completed"
        },
        "tags": [],
        "id": "secret-satellite"
      },
      "source": [
        "**Pre Processing**"
      ],
      "id": "secret-satellite"
    },
    {
      "cell_type": "code",
      "metadata": {
        "execution": {
          "iopub.execute_input": "2021-05-29T15:31:50.315895Z",
          "iopub.status.busy": "2021-05-29T15:31:50.305680Z",
          "iopub.status.idle": "2021-05-29T15:32:06.392100Z",
          "shell.execute_reply": "2021-05-29T15:32:06.392523Z",
          "shell.execute_reply.started": "2021-05-29T15:03:45.625102Z"
        },
        "papermill": {
          "duration": 16.180234,
          "end_time": "2021-05-29T15:32:06.392684",
          "exception": false,
          "start_time": "2021-05-29T15:31:50.212450",
          "status": "completed"
        },
        "tags": [],
        "colab": {
          "base_uri": "https://localhost:8080/"
        },
        "id": "fatty-maryland",
        "outputId": "77169858-8d78-48d8-f5e9-6f74fd05099b"
      },
      "source": [
        "max_len = 0\n",
        "for tweet in train['text']:\n",
        "    url_pattern = re.compile(r'https?://\\S+|www\\.\\S+')\n",
        "    tweet = url_pattern.sub(r'', tweet)\n",
        "    tweet = re.sub('\\S*@\\S*\\s?', '', tweet)\n",
        "    tweet = re.sub('\\s+', ' ', tweet)\n",
        "    tweet = re.sub(\"\\'\", \"\", tweet)\n",
        "\n",
        "    input_ids = tokenizer.encode(tweet, add_special_tokens=True)\n",
        "\n",
        "    max_len = max(max_len, len(input_ids))        #maximum length of input ids\n",
        "\n",
        "print('Max sequence length: ', max_len)"
      ],
      "id": "fatty-maryland",
      "execution_count": null,
      "outputs": [
        {
          "output_type": "stream",
          "text": [
            "Max sequence length:  110\n"
          ],
          "name": "stdout"
        }
      ]
    },
    {
      "cell_type": "code",
      "metadata": {
        "execution": {
          "iopub.execute_input": "2021-05-29T15:32:06.514535Z",
          "iopub.status.busy": "2021-05-29T15:32:06.513932Z",
          "iopub.status.idle": "2021-05-29T15:32:24.899556Z",
          "shell.execute_reply": "2021-05-29T15:32:24.899982Z",
          "shell.execute_reply.started": "2021-05-29T15:04:05.568029Z"
        },
        "papermill": {
          "duration": 18.449856,
          "end_time": "2021-05-29T15:32:24.900151",
          "exception": false,
          "start_time": "2021-05-29T15:32:06.450295",
          "status": "completed"
        },
        "tags": [],
        "colab": {
          "base_uri": "https://localhost:8080/"
        },
        "id": "national-brazilian",
        "outputId": "862fc8b6-3433-4d87-9602-47e33d51fbf9"
      },
      "source": [
        "\n",
        "input_ids = []\n",
        "attention_masks = []\n",
        "\n",
        "for sent in train['text']:\n",
        "    \n",
        "    encoded_dict = tokenizer.encode_plus(\n",
        "                        sent,                      \n",
        "                        add_special_tokens = True, \n",
        "                        max_length = 110,           \n",
        "                        pad_to_max_length = True,\n",
        "                        return_attention_mask = True,   \n",
        "                        return_tensors = 'pt',     \n",
        "                   )\n",
        "     \n",
        "    input_ids.append(encoded_dict['input_ids'])\n",
        "    attention_masks.append(encoded_dict['attention_mask'])\n",
        "\n",
        "\n",
        "input_ids = torch.cat(input_ids, dim=0)\n",
        "attention_masks = torch.cat(attention_masks, dim=0)\n",
        "labels = torch.tensor(train['Sentiment'].tolist())"
      ],
      "id": "national-brazilian",
      "execution_count": null,
      "outputs": [
        {
          "output_type": "stream",
          "text": [
            "Truncation was not explicitly activated but `max_length` is provided a specific value, please use `truncation=True` to explicitly truncate examples to max length. Defaulting to 'longest_first' truncation strategy. If you encode pairs of sequences (GLUE-style) with the tokenizer you can select this strategy more precisely by providing a specific strategy to `truncation`.\n",
            "/usr/local/lib/python3.7/dist-packages/transformers/tokenization_utils_base.py:2110: FutureWarning: The `pad_to_max_length` argument is deprecated and will be removed in a future version, use `padding=True` or `padding='longest'` to pad to the longest sequence in the batch, or use `padding='max_length'` to pad to a max length. In this case, you can give a specific length with `max_length` (e.g. `max_length=45`) or leave max_length to None to pad to the maximal input size of the model (e.g. 512 for Bert).\n",
            "  FutureWarning,\n"
          ],
          "name": "stderr"
        }
      ]
    },
    {
      "cell_type": "markdown",
      "metadata": {
        "papermill": {
          "duration": 0.057031,
          "end_time": "2021-05-29T15:32:25.015089",
          "exception": false,
          "start_time": "2021-05-29T15:32:24.958058",
          "status": "completed"
        },
        "tags": [],
        "id": "boolean-familiar"
      },
      "source": [
        "**Datasets and Dataloaders**"
      ],
      "id": "boolean-familiar"
    },
    {
      "cell_type": "code",
      "metadata": {
        "execution": {
          "iopub.execute_input": "2021-05-29T15:32:25.138280Z",
          "iopub.status.busy": "2021-05-29T15:32:25.137601Z",
          "iopub.status.idle": "2021-05-29T15:32:25.144106Z",
          "shell.execute_reply": "2021-05-29T15:32:25.143675Z",
          "shell.execute_reply.started": "2021-05-29T15:04:29.107827Z"
        },
        "papermill": {
          "duration": 0.071681,
          "end_time": "2021-05-29T15:32:25.144228",
          "exception": false,
          "start_time": "2021-05-29T15:32:25.072547",
          "status": "completed"
        },
        "tags": [],
        "id": "brave-jones"
      },
      "source": [
        "from torch.utils.data import TensorDataset, random_split\n",
        "\n",
        "dataset = TensorDataset(input_ids, attention_masks, labels)  #storing the input ids,masks and labels in dataset\n",
        "\n",
        "train_size = int(0.9 * len(dataset))\n",
        "val_size = len(dataset) - train_size\n",
        "\n",
        "train_dataset, val_dataset = random_split(dataset, [train_size, val_size])  #90-10 train-val split"
      ],
      "id": "brave-jones",
      "execution_count": null,
      "outputs": []
    },
    {
      "cell_type": "markdown",
      "metadata": {
        "id": "rMmDfL41MV5T"
      },
      "source": [
        "#creating dataloaders"
      ],
      "id": "rMmDfL41MV5T"
    },
    {
      "cell_type": "code",
      "metadata": {
        "execution": {
          "iopub.execute_input": "2021-05-29T15:32:25.265719Z",
          "iopub.status.busy": "2021-05-29T15:32:25.265019Z",
          "iopub.status.idle": "2021-05-29T15:32:25.268954Z",
          "shell.execute_reply": "2021-05-29T15:32:25.268508Z",
          "shell.execute_reply.started": "2021-05-29T15:04:29.125557Z"
        },
        "papermill": {
          "duration": 0.066284,
          "end_time": "2021-05-29T15:32:25.269079",
          "exception": false,
          "start_time": "2021-05-29T15:32:25.202795",
          "status": "completed"
        },
        "tags": [],
        "id": "moderate-dream"
      },
      "source": [
        "from torch.utils.data import DataLoader, RandomSampler, SequentialSampler\n",
        "batch_size = 32\n",
        "train_dataloader = DataLoader(\n",
        "            train_dataset,  \n",
        "            sampler = RandomSampler(train_dataset),     \n",
        "            batch_size = batch_size \n",
        "        )\n",
        "\n",
        "validation_dataloader = DataLoader(\n",
        "            val_dataset, \n",
        "            sampler = SequentialSampler(val_dataset),    \n",
        "            batch_size = batch_size \n",
        "        )"
      ],
      "id": "moderate-dream",
      "execution_count": null,
      "outputs": []
    },
    {
      "cell_type": "code",
      "metadata": {
        "execution": {
          "iopub.execute_input": "2021-05-29T15:32:25.389806Z",
          "iopub.status.busy": "2021-05-29T15:32:25.389172Z",
          "iopub.status.idle": "2021-05-29T15:32:50.011619Z",
          "shell.execute_reply": "2021-05-29T15:32:50.010736Z",
          "shell.execute_reply.started": "2021-05-29T15:04:29.135518Z"
        },
        "papermill": {
          "duration": 24.685093,
          "end_time": "2021-05-29T15:32:50.011758",
          "exception": false,
          "start_time": "2021-05-29T15:32:25.326665",
          "status": "completed"
        },
        "tags": [],
        "colab": {
          "base_uri": "https://localhost:8080/",
          "height": 223,
          "referenced_widgets": [
            "8a81cdb1db4542aab58028e4b7a73bbd",
            "e87fd62a833c49eea35de200eb2f1684",
            "88e2bc4b640548b6baee9cf664b7d2c4",
            "baef1fde479f441eaa99987fcd1ad7c5",
            "f0feefd8d9b64153a23c2586d51fdc3d",
            "59870d18b90d483da4030620fddb0e3a",
            "31135df54ccb45a8b8e324fae7b7e234",
            "6583308336cc404f8ba340e7e7152450",
            "d071d21c6c6d454ca8881fa0ae344345",
            "1d87ad3c800241419622d5f47ad20a8a",
            "83e6a9b4ba3a424490de50c620994463",
            "ed2915b54caf4e0d8c0e91dcc9b36248",
            "2e80e0deeb804dea8d8a17cc4f391f60",
            "f8d4be0080c2448c9eca4f1b2a529238",
            "d1569ebd20214c4e8cf4e6c6e38e1893",
            "106ebe2da0b24d3da58243a587ed5451"
          ]
        },
        "id": "adolescent-poetry",
        "outputId": "2386a086-37db-4190-8588-c60bf3bb151b"
      },
      "source": [
        "from transformers import BertForSequenceClassification, AdamW, BertConfig\n",
        "\n",
        "\n",
        "model = BertForSequenceClassification.from_pretrained(\n",
        "    \"bert-base-uncased\", \n",
        "    num_labels = 3,   \n",
        "    output_attentions = False,\n",
        "    output_hidden_states = False,\n",
        ")"
      ],
      "id": "adolescent-poetry",
      "execution_count": null,
      "outputs": [
        {
          "output_type": "display_data",
          "data": {
            "application/vnd.jupyter.widget-view+json": {
              "model_id": "8a81cdb1db4542aab58028e4b7a73bbd",
              "version_minor": 0,
              "version_major": 2
            },
            "text/plain": [
              "HBox(children=(FloatProgress(value=0.0, description='Downloading', max=570.0, style=ProgressStyle(description_…"
            ]
          },
          "metadata": {
            "tags": []
          }
        },
        {
          "output_type": "stream",
          "text": [
            "\n"
          ],
          "name": "stdout"
        },
        {
          "output_type": "display_data",
          "data": {
            "application/vnd.jupyter.widget-view+json": {
              "model_id": "d071d21c6c6d454ca8881fa0ae344345",
              "version_minor": 0,
              "version_major": 2
            },
            "text/plain": [
              "HBox(children=(FloatProgress(value=0.0, description='Downloading', max=440473133.0, style=ProgressStyle(descri…"
            ]
          },
          "metadata": {
            "tags": []
          }
        },
        {
          "output_type": "stream",
          "text": [
            "\n"
          ],
          "name": "stdout"
        },
        {
          "output_type": "stream",
          "text": [
            "Some weights of the model checkpoint at bert-base-uncased were not used when initializing BertForSequenceClassification: ['cls.seq_relationship.bias', 'cls.predictions.transform.dense.bias', 'cls.predictions.transform.LayerNorm.weight', 'cls.predictions.transform.LayerNorm.bias', 'cls.predictions.decoder.weight', 'cls.seq_relationship.weight', 'cls.predictions.bias', 'cls.predictions.transform.dense.weight']\n",
            "- This IS expected if you are initializing BertForSequenceClassification from the checkpoint of a model trained on another task or with another architecture (e.g. initializing a BertForSequenceClassification model from a BertForPreTraining model).\n",
            "- This IS NOT expected if you are initializing BertForSequenceClassification from the checkpoint of a model that you expect to be exactly identical (initializing a BertForSequenceClassification model from a BertForSequenceClassification model).\n",
            "Some weights of BertForSequenceClassification were not initialized from the model checkpoint at bert-base-uncased and are newly initialized: ['classifier.bias', 'classifier.weight']\n",
            "You should probably TRAIN this model on a down-stream task to be able to use it for predictions and inference.\n"
          ],
          "name": "stderr"
        }
      ]
    },
    {
      "cell_type": "markdown",
      "metadata": {
        "papermill": {
          "duration": 0.058719,
          "end_time": "2021-05-29T15:32:50.129955",
          "exception": false,
          "start_time": "2021-05-29T15:32:50.071236",
          "status": "completed"
        },
        "tags": [],
        "id": "exposed-michigan"
      },
      "source": [
        "**Optimizer**"
      ],
      "id": "exposed-michigan"
    },
    {
      "cell_type": "code",
      "metadata": {
        "execution": {
          "iopub.execute_input": "2021-05-29T15:32:50.266421Z",
          "iopub.status.busy": "2021-05-29T15:32:50.264747Z",
          "iopub.status.idle": "2021-05-29T15:32:50.267075Z",
          "shell.execute_reply": "2021-05-29T15:32:50.267499Z",
          "shell.execute_reply.started": "2021-05-29T15:04:51.894545Z"
        },
        "papermill": {
          "duration": 0.077542,
          "end_time": "2021-05-29T15:32:50.267641",
          "exception": false,
          "start_time": "2021-05-29T15:32:50.190099",
          "status": "completed"
        },
        "tags": [],
        "id": "accessory-walter"
      },
      "source": [
        "optimizer = AdamW(model.parameters(),\n",
        "                  lr = 2e-5, \n",
        "                  eps = 1e-8 \n",
        "                )"
      ],
      "id": "accessory-walter",
      "execution_count": null,
      "outputs": []
    },
    {
      "cell_type": "code",
      "metadata": {
        "execution": {
          "iopub.execute_input": "2021-05-29T15:32:50.402723Z",
          "iopub.status.busy": "2021-05-29T15:32:50.400960Z",
          "iopub.status.idle": "2021-05-29T15:32:50.403417Z",
          "shell.execute_reply": "2021-05-29T15:32:50.403869Z",
          "shell.execute_reply.started": "2021-05-29T15:04:51.906524Z"
        },
        "papermill": {
          "duration": 0.068026,
          "end_time": "2021-05-29T15:32:50.404019",
          "exception": false,
          "start_time": "2021-05-29T15:32:50.335993",
          "status": "completed"
        },
        "tags": [],
        "id": "jewish-florence"
      },
      "source": [
        "from transformers import get_linear_schedule_with_warmup\n",
        "\n",
        "epochs = 10\n",
        "\n",
        "\n",
        "total_steps = len(train_dataloader) * epochs\n",
        "\n",
        "scheduler = get_linear_schedule_with_warmup(optimizer, \n",
        "                                            num_warmup_steps = 0, \n",
        "                                            num_training_steps = total_steps)"
      ],
      "id": "jewish-florence",
      "execution_count": null,
      "outputs": []
    },
    {
      "cell_type": "code",
      "metadata": {
        "execution": {
          "iopub.execute_input": "2021-05-29T15:32:50.528589Z",
          "iopub.status.busy": "2021-05-29T15:32:50.527940Z",
          "iopub.status.idle": "2021-05-29T15:32:50.531968Z",
          "shell.execute_reply": "2021-05-29T15:32:50.531539Z",
          "shell.execute_reply.started": "2021-05-29T15:04:51.922093Z"
        },
        "papermill": {
          "duration": 0.068954,
          "end_time": "2021-05-29T15:32:50.532080",
          "exception": false,
          "start_time": "2021-05-29T15:32:50.463126",
          "status": "completed"
        },
        "tags": [],
        "id": "alive-vampire"
      },
      "source": [
        "import numpy as np\n",
        "\n",
        "def pred_accuracy(preds, labels):\n",
        "    pred = np.argmax(preds, axis=1).flatten()\n",
        "    labels_flat = labels.flatten()\n",
        "    return np.sum(pred == labels_flat) / len(labels_flat)"
      ],
      "id": "alive-vampire",
      "execution_count": null,
      "outputs": []
    },
    {
      "cell_type": "markdown",
      "metadata": {
        "id": "4CPAR8poKWhh"
      },
      "source": [
        "#Time lapsed"
      ],
      "id": "4CPAR8poKWhh"
    },
    {
      "cell_type": "code",
      "metadata": {
        "execution": {
          "iopub.execute_input": "2021-05-29T15:32:50.656418Z",
          "iopub.status.busy": "2021-05-29T15:32:50.655860Z",
          "iopub.status.idle": "2021-05-29T15:32:50.659956Z",
          "shell.execute_reply": "2021-05-29T15:32:50.659493Z",
          "shell.execute_reply.started": "2021-05-29T15:04:51.933053Z"
        },
        "papermill": {
          "duration": 0.067924,
          "end_time": "2021-05-29T15:32:50.660066",
          "exception": false,
          "start_time": "2021-05-29T15:32:50.592142",
          "status": "completed"
        },
        "tags": [],
        "id": "worldwide-gamma"
      },
      "source": [
        "import time\n",
        "import datetime\n",
        "\n",
        "def format_time(elapsed):\n",
        "    elapsed_rounded = int(round((elapsed)))\n",
        "    \n",
        "    return str(datetime.timedelta(seconds=elapsed_rounded))"
      ],
      "id": "worldwide-gamma",
      "execution_count": null,
      "outputs": []
    },
    {
      "cell_type": "markdown",
      "metadata": {
        "papermill": {
          "duration": 0.059327,
          "end_time": "2021-05-29T15:32:50.778583",
          "exception": false,
          "start_time": "2021-05-29T15:32:50.719256",
          "status": "completed"
        },
        "tags": [],
        "id": "incredible-wallace"
      },
      "source": [
        "**Training**\n"
      ],
      "id": "incredible-wallace"
    },
    {
      "cell_type": "code",
      "metadata": {
        "execution": {
          "iopub.execute_input": "2021-05-29T15:32:50.926757Z",
          "iopub.status.busy": "2021-05-29T15:32:50.925981Z",
          "iopub.status.idle": "2021-05-29T15:38:28.268629Z",
          "shell.execute_reply": "2021-05-29T15:38:28.269094Z",
          "shell.execute_reply.started": "2021-05-29T15:04:51.943967Z"
        },
        "papermill": {
          "duration": 337.423933,
          "end_time": "2021-05-29T15:38:28.269251",
          "exception": false,
          "start_time": "2021-05-29T15:32:50.845318",
          "status": "completed"
        },
        "tags": [],
        "colab": {
          "base_uri": "https://localhost:8080/"
        },
        "id": "prospective-croatia",
        "outputId": "2e4b1581-c223-4db6-e854-f816f93eeed4"
      },
      "source": [
        "import random\n",
        "import numpy as np\n",
        "\n",
        "\n",
        "seed_val = 42\n",
        "epochs=5\n",
        "\n",
        "random.seed(seed_val)\n",
        "np.random.seed(seed_val)\n",
        "torch.manual_seed(seed_val)\n",
        "torch.cuda.manual_seed_all(seed_val)\n",
        "\n",
        "model.to(device)\n",
        "\n",
        "\n",
        "training_stats = []\n",
        "\n",
        "total_t0 = time.time()\n",
        "\n",
        "for epoch_i in range(0, epochs):\n",
        "    \n",
        "    print(\"\")\n",
        "    print('======== Epoch {:} / {:} ========'.format(epoch_i + 1, epochs))\n",
        "    print('Training...')\n",
        "\n",
        "    t0 = time.time()\n",
        "\n",
        "    total_train_loss = 0\n",
        "\n",
        "    model.train()\n",
        "\n",
        "    for step, batch in enumerate(train_dataloader):\n",
        "        \n",
        "        # Printing the progress after every 40 epochs\n",
        "        if step % 40 == 0 and not step == 0:\n",
        "            \n",
        "            elapsed = format_time(time.time() - t0)\n",
        "            \n",
        "            print('  Batch {:>5,}  of  {:>5,}.    Elapsed: {:}.'.format(step, len(train_dataloader), elapsed))\n",
        "\n",
        "        b_input_ids = batch[0].to(device)\n",
        "        b_input_mask = batch[1].to(device)\n",
        "        b_labels = batch[2].to(device)\n",
        "\n",
        "        model.zero_grad()        \n",
        "\n",
        "        result = model(b_input_ids, \n",
        "                       token_type_ids=None, \n",
        "                       attention_mask=b_input_mask, \n",
        "                       labels=b_labels,\n",
        "                       return_dict=True)\n",
        "\n",
        "        loss = result.loss\n",
        "        logits = result.logits\n",
        "\n",
        "        total_train_loss += loss.item()\n",
        "\n",
        "        loss.backward()\n",
        "\n",
        "        torch.nn.utils.clip_grad_norm_(model.parameters(), 1.0)\n",
        "\n",
        "        optimizer.step()\n",
        "        scheduler.step()\n",
        "\n",
        "    avg_train_loss = total_train_loss / len(train_dataloader)            \n",
        "\n",
        "    training_time = format_time(time.time() - t0)\n",
        "\n",
        "    print(\"\")\n",
        "    print(\"  Average training loss: {0:.2f}\".format(avg_train_loss))\n",
        "    print(\"  Training epcoh took: {:}\".format(training_time))\n",
        "        \n",
        "    # ========================================\n",
        "    #               Validation\n",
        "    # ========================================\n",
        "\n",
        "    print(\"\")\n",
        "    print(\"Running Validation...\")\n",
        "\n",
        "    t0 = time.time()\n",
        "\n",
        "    model.eval()\n",
        "\n",
        "    total_eval_accuracy = 0\n",
        "    total_eval_loss = 0\n",
        "    nb_eval_steps = 0\n",
        "\n",
        "    for batch in validation_dataloader:\n",
        "\n",
        "        b_input_ids = batch[0].to(device)\n",
        "        b_input_mask = batch[1].to(device)\n",
        "        b_labels = batch[2].to(device)\n",
        "\n",
        "        with torch.no_grad():        \n",
        "\n",
        "            result = model(b_input_ids, \n",
        "                           token_type_ids=None, \n",
        "                           attention_mask=b_input_mask,\n",
        "                           labels=b_labels,\n",
        "                           return_dict=True)\n",
        "\n",
        "        loss = result.loss\n",
        "        logits = result.logits\n",
        "            \n",
        "        total_eval_loss += loss.item()\n",
        "\n",
        "        logits = logits.detach().cpu().numpy()\n",
        "        label_ids = b_labels.to('cpu').numpy()\n",
        "\n",
        "        total_eval_accuracy += pred_accuracy(logits, label_ids)\n",
        "        \n",
        "    avg_val_accuracy = total_eval_accuracy / len(validation_dataloader)\n",
        "    print(\"  Accuracy: {0:.2f}\".format(avg_val_accuracy))\n",
        "\n",
        "    avg_val_loss = total_eval_loss / len(validation_dataloader)\n",
        "\n",
        "    validation_time = format_time(time.time() - t0)\n",
        "    \n",
        "    print(\"  Validation Loss: {0:.2f}\".format(avg_val_loss))\n",
        "    print(\"  Validation took: {:}\".format(validation_time))\n",
        "\n",
        "    training_stats.append(\n",
        "        {\n",
        "            'epoch': epoch_i + 1,\n",
        "            'Training Loss': avg_train_loss,\n",
        "            'Valid. Loss': avg_val_loss,\n",
        "            'Valid. Accur.': avg_val_accuracy,\n",
        "            'Training Time': training_time,\n",
        "            'Validation Time': validation_time\n",
        "        }\n",
        "    )\n",
        "\n",
        "print(\"\")\n",
        "print(\"Training complete!\")\n",
        "\n",
        "print(\"Total training took {:} (h:mm:ss)\".format(format_time(time.time()-total_t0)))"
      ],
      "id": "prospective-croatia",
      "execution_count": null,
      "outputs": [
        {
          "output_type": "stream",
          "text": [
            "\n",
            "======== Epoch 1 / 5 ========\n",
            "Training...\n",
            "  Batch    40  of    882.    Elapsed: 0:00:23.\n",
            "  Batch    80  of    882.    Elapsed: 0:00:46.\n",
            "  Batch   120  of    882.    Elapsed: 0:01:09.\n",
            "  Batch   160  of    882.    Elapsed: 0:01:33.\n",
            "  Batch   200  of    882.    Elapsed: 0:01:57.\n",
            "  Batch   240  of    882.    Elapsed: 0:02:21.\n",
            "  Batch   280  of    882.    Elapsed: 0:02:45.\n",
            "  Batch   320  of    882.    Elapsed: 0:03:09.\n",
            "  Batch   360  of    882.    Elapsed: 0:03:33.\n",
            "  Batch   400  of    882.    Elapsed: 0:03:57.\n",
            "  Batch   440  of    882.    Elapsed: 0:04:21.\n",
            "  Batch   480  of    882.    Elapsed: 0:04:45.\n",
            "  Batch   520  of    882.    Elapsed: 0:05:09.\n",
            "  Batch   560  of    882.    Elapsed: 0:05:32.\n",
            "  Batch   600  of    882.    Elapsed: 0:05:56.\n",
            "  Batch   640  of    882.    Elapsed: 0:06:20.\n",
            "  Batch   680  of    882.    Elapsed: 0:06:44.\n",
            "  Batch   720  of    882.    Elapsed: 0:07:08.\n",
            "  Batch   760  of    882.    Elapsed: 0:07:32.\n",
            "  Batch   800  of    882.    Elapsed: 0:07:56.\n",
            "  Batch   840  of    882.    Elapsed: 0:08:20.\n",
            "  Batch   880  of    882.    Elapsed: 0:08:44.\n",
            "\n",
            "  Average training loss: 0.58\n",
            "  Training epcoh took: 0:08:45\n",
            "\n",
            "Running Validation...\n",
            "  Accuracy: 0.80\n",
            "  Validation Loss: 0.49\n",
            "  Validation took: 0:00:21\n",
            "\n",
            "======== Epoch 2 / 5 ========\n",
            "Training...\n",
            "  Batch    40  of    882.    Elapsed: 0:00:24.\n",
            "  Batch    80  of    882.    Elapsed: 0:00:48.\n",
            "  Batch   120  of    882.    Elapsed: 0:01:12.\n",
            "  Batch   160  of    882.    Elapsed: 0:01:36.\n",
            "  Batch   200  of    882.    Elapsed: 0:02:00.\n",
            "  Batch   240  of    882.    Elapsed: 0:02:24.\n",
            "  Batch   280  of    882.    Elapsed: 0:02:48.\n",
            "  Batch   320  of    882.    Elapsed: 0:03:12.\n",
            "  Batch   360  of    882.    Elapsed: 0:03:36.\n",
            "  Batch   400  of    882.    Elapsed: 0:04:00.\n",
            "  Batch   440  of    882.    Elapsed: 0:04:24.\n",
            "  Batch   480  of    882.    Elapsed: 0:04:48.\n",
            "  Batch   520  of    882.    Elapsed: 0:05:12.\n",
            "  Batch   560  of    882.    Elapsed: 0:05:36.\n",
            "  Batch   600  of    882.    Elapsed: 0:05:59.\n",
            "  Batch   640  of    882.    Elapsed: 0:06:23.\n",
            "  Batch   680  of    882.    Elapsed: 0:06:47.\n",
            "  Batch   720  of    882.    Elapsed: 0:07:11.\n",
            "  Batch   760  of    882.    Elapsed: 0:07:35.\n",
            "  Batch   800  of    882.    Elapsed: 0:07:59.\n",
            "  Batch   840  of    882.    Elapsed: 0:08:23.\n",
            "  Batch   880  of    882.    Elapsed: 0:08:47.\n",
            "\n",
            "  Average training loss: 0.41\n",
            "  Training epcoh took: 0:08:48\n",
            "\n",
            "Running Validation...\n",
            "  Accuracy: 0.80\n",
            "  Validation Loss: 0.50\n",
            "  Validation took: 0:00:21\n",
            "\n",
            "======== Epoch 3 / 5 ========\n",
            "Training...\n",
            "  Batch    40  of    882.    Elapsed: 0:00:24.\n",
            "  Batch    80  of    882.    Elapsed: 0:00:48.\n",
            "  Batch   120  of    882.    Elapsed: 0:01:12.\n",
            "  Batch   160  of    882.    Elapsed: 0:01:36.\n",
            "  Batch   200  of    882.    Elapsed: 0:02:00.\n",
            "  Batch   240  of    882.    Elapsed: 0:02:24.\n",
            "  Batch   280  of    882.    Elapsed: 0:02:48.\n",
            "  Batch   320  of    882.    Elapsed: 0:03:11.\n",
            "  Batch   360  of    882.    Elapsed: 0:03:35.\n",
            "  Batch   400  of    882.    Elapsed: 0:03:59.\n",
            "  Batch   440  of    882.    Elapsed: 0:04:23.\n",
            "  Batch   480  of    882.    Elapsed: 0:04:47.\n",
            "  Batch   520  of    882.    Elapsed: 0:05:11.\n",
            "  Batch   560  of    882.    Elapsed: 0:05:35.\n",
            "  Batch   600  of    882.    Elapsed: 0:05:59.\n",
            "  Batch   640  of    882.    Elapsed: 0:06:23.\n",
            "  Batch   680  of    882.    Elapsed: 0:06:47.\n",
            "  Batch   720  of    882.    Elapsed: 0:07:11.\n",
            "  Batch   760  of    882.    Elapsed: 0:07:35.\n",
            "  Batch   800  of    882.    Elapsed: 0:07:59.\n",
            "  Batch   840  of    882.    Elapsed: 0:08:23.\n",
            "  Batch   880  of    882.    Elapsed: 0:08:47.\n",
            "\n",
            "  Average training loss: 0.28\n",
            "  Training epcoh took: 0:08:47\n",
            "\n",
            "Running Validation...\n",
            "  Accuracy: 0.80\n",
            "  Validation Loss: 0.60\n",
            "  Validation took: 0:00:21\n",
            "\n",
            "======== Epoch 4 / 5 ========\n",
            "Training...\n",
            "  Batch    40  of    882.    Elapsed: 0:00:24.\n",
            "  Batch    80  of    882.    Elapsed: 0:00:48.\n",
            "  Batch   120  of    882.    Elapsed: 0:01:12.\n",
            "  Batch   160  of    882.    Elapsed: 0:01:36.\n",
            "  Batch   200  of    882.    Elapsed: 0:02:00.\n",
            "  Batch   240  of    882.    Elapsed: 0:02:24.\n",
            "  Batch   280  of    882.    Elapsed: 0:02:48.\n",
            "  Batch   320  of    882.    Elapsed: 0:03:11.\n",
            "  Batch   360  of    882.    Elapsed: 0:03:35.\n",
            "  Batch   400  of    882.    Elapsed: 0:03:59.\n",
            "  Batch   440  of    882.    Elapsed: 0:04:23.\n",
            "  Batch   480  of    882.    Elapsed: 0:04:47.\n",
            "  Batch   520  of    882.    Elapsed: 0:05:11.\n",
            "  Batch   560  of    882.    Elapsed: 0:05:35.\n",
            "  Batch   600  of    882.    Elapsed: 0:05:59.\n",
            "  Batch   640  of    882.    Elapsed: 0:06:23.\n",
            "  Batch   680  of    882.    Elapsed: 0:06:47.\n",
            "  Batch   720  of    882.    Elapsed: 0:07:11.\n",
            "  Batch   760  of    882.    Elapsed: 0:07:35.\n",
            "  Batch   800  of    882.    Elapsed: 0:07:59.\n",
            "  Batch   840  of    882.    Elapsed: 0:08:23.\n",
            "  Batch   880  of    882.    Elapsed: 0:08:47.\n",
            "\n",
            "  Average training loss: 0.19\n",
            "  Training epcoh took: 0:08:47\n",
            "\n",
            "Running Validation...\n",
            "  Accuracy: 0.78\n",
            "  Validation Loss: 0.72\n",
            "  Validation took: 0:00:21\n",
            "\n",
            "======== Epoch 5 / 5 ========\n",
            "Training...\n",
            "  Batch    40  of    882.    Elapsed: 0:00:24.\n",
            "  Batch    80  of    882.    Elapsed: 0:00:48.\n",
            "  Batch   120  of    882.    Elapsed: 0:01:12.\n",
            "  Batch   160  of    882.    Elapsed: 0:01:36.\n",
            "  Batch   200  of    882.    Elapsed: 0:02:00.\n",
            "  Batch   240  of    882.    Elapsed: 0:02:24.\n",
            "  Batch   280  of    882.    Elapsed: 0:02:48.\n",
            "  Batch   320  of    882.    Elapsed: 0:03:12.\n",
            "  Batch   360  of    882.    Elapsed: 0:03:36.\n",
            "  Batch   400  of    882.    Elapsed: 0:04:00.\n",
            "  Batch   440  of    882.    Elapsed: 0:04:24.\n",
            "  Batch   480  of    882.    Elapsed: 0:04:47.\n",
            "  Batch   520  of    882.    Elapsed: 0:05:11.\n",
            "  Batch   560  of    882.    Elapsed: 0:05:35.\n",
            "  Batch   600  of    882.    Elapsed: 0:05:59.\n",
            "  Batch   640  of    882.    Elapsed: 0:06:23.\n",
            "  Batch   680  of    882.    Elapsed: 0:06:47.\n",
            "  Batch   720  of    882.    Elapsed: 0:07:11.\n",
            "  Batch   760  of    882.    Elapsed: 0:07:35.\n",
            "  Batch   800  of    882.    Elapsed: 0:07:59.\n",
            "  Batch   840  of    882.    Elapsed: 0:08:23.\n",
            "  Batch   880  of    882.    Elapsed: 0:08:47.\n",
            "\n",
            "  Average training loss: 0.12\n",
            "  Training epcoh took: 0:08:48\n",
            "\n",
            "Running Validation...\n",
            "  Accuracy: 0.80\n",
            "  Validation Loss: 0.89\n",
            "  Validation took: 0:00:21\n",
            "\n",
            "Training complete!\n",
            "Total training took 0:45:42 (h:mm:ss)\n"
          ],
          "name": "stdout"
        }
      ]
    },
    {
      "cell_type": "code",
      "metadata": {
        "colab": {
          "base_uri": "https://localhost:8080/"
        },
        "id": "aHkLGvEDQB6K",
        "outputId": "ef909909-64d8-406c-84a1-c128b8117198"
      },
      "source": [
        "len([ep['Training Loss'] for ep in training_stats])"
      ],
      "id": "aHkLGvEDQB6K",
      "execution_count": null,
      "outputs": [
        {
          "output_type": "execute_result",
          "data": {
            "text/plain": [
              "5"
            ]
          },
          "metadata": {
            "tags": []
          },
          "execution_count": 36
        }
      ]
    },
    {
      "cell_type": "code",
      "metadata": {
        "colab": {
          "base_uri": "https://localhost:8080/"
        },
        "id": "zNSZ0p3mf4Wj",
        "outputId": "7f6d6da9-59a3-42ba-e72b-10a7a718e2c1"
      },
      "source": [
        "len(train_losses), train_losses"
      ],
      "id": "zNSZ0p3mf4Wj",
      "execution_count": null,
      "outputs": [
        {
          "output_type": "execute_result",
          "data": {
            "text/plain": [
              "(5,\n",
              " [0.5842594826032245,\n",
              "  0.4070788967315437,\n",
              "  0.2848057657851924,\n",
              "  0.18869687447666514,\n",
              "  0.12346802775002594])"
            ]
          },
          "metadata": {
            "tags": []
          },
          "execution_count": 39
        }
      ]
    },
    {
      "cell_type": "code",
      "metadata": {
        "colab": {
          "base_uri": "https://localhost:8080/",
          "height": 279
        },
        "id": "oHrr3oqe-s39",
        "outputId": "97ecdec4-df46-49b8-fdf8-89649d7fc304"
      },
      "source": [
        "train_losses = [ep['Training Loss'] for ep in training_stats]\n",
        "val_losses = [ep['Valid. Loss'] for ep in training_stats]\n",
        "plt.plot(range(len(train_losses)), train_losses, color='red', label='train loss')\n",
        "plt.plot(range(len(val_losses)), val_losses, color='blue', label = 'validation loss')\n",
        "plt.xlabel('epochs')\n",
        "plt.ylabel('loss')\n",
        "plt.legend()\n",
        "plt.show()"
      ],
      "id": "oHrr3oqe-s39",
      "execution_count": null,
      "outputs": [
        {
          "output_type": "display_data",
          "data": {
            "image/png": "[encoded data removed]",
            "text/plain": [
              "<Figure size 432x288 with 1 Axes>"
            ]
          },
          "metadata": {
            "tags": [],
            "needs_background": "light"
          }
        }
      ]
    },
    {
      "cell_type": "markdown",
      "metadata": {
        "papermill": {
          "duration": 0.064672,
          "end_time": "2021-05-29T15:38:28.398830",
          "exception": false,
          "start_time": "2021-05-29T15:38:28.334158",
          "status": "completed"
        },
        "tags": [],
        "id": "tribal-facial"
      },
      "source": [
        "\n",
        "# Sentiment Prediction"
      ],
      "id": "tribal-facial"
    },
    {
      "cell_type": "markdown",
      "metadata": {
        "papermill": {
          "duration": 0.064307,
          "end_time": "2021-05-29T15:38:28.527724",
          "exception": false,
          "start_time": "2021-05-29T15:38:28.463417",
          "status": "completed"
        },
        "tags": [],
        "id": "lucky-dutch"
      },
      "source": [
        "The covid 19 vaccination tweets dataset imported below can be downloaded from this [link](https://www.kaggle.com/gpreda/all-covid19-vaccines-tweets)"
      ],
      "id": "lucky-dutch"
    },
    {
      "cell_type": "code",
      "metadata": {
        "execution": {
          "iopub.execute_input": "2021-05-29T15:38:28.667985Z",
          "iopub.status.busy": "2021-05-29T15:38:28.667367Z",
          "iopub.status.idle": "2021-05-29T15:38:29.500118Z",
          "shell.execute_reply": "2021-05-29T15:38:29.499308Z",
          "shell.execute_reply.started": "2021-05-29T15:10:57.549633Z"
        },
        "papermill": {
          "duration": 0.907862,
          "end_time": "2021-05-29T15:38:29.500251",
          "exception": false,
          "start_time": "2021-05-29T15:38:28.592389",
          "status": "completed"
        },
        "tags": [],
        "id": "quiet-tomato"
      },
      "source": [
        "df_vacc = pd.read_csv('Datasets/vaccination_all_tweets.csv')\n"
      ],
      "id": "quiet-tomato",
      "execution_count": null,
      "outputs": []
    },
    {
      "cell_type": "code",
      "metadata": {
        "execution": {
          "iopub.execute_input": "2021-05-29T15:38:29.639445Z",
          "iopub.status.busy": "2021-05-29T15:38:29.637894Z",
          "iopub.status.idle": "2021-05-29T15:38:29.640124Z",
          "shell.execute_reply": "2021-05-29T15:38:29.640531Z",
          "shell.execute_reply.started": "2021-05-29T15:10:58.608104Z"
        },
        "papermill": {
          "duration": 0.07375,
          "end_time": "2021-05-29T15:38:29.640666",
          "exception": false,
          "start_time": "2021-05-29T15:38:29.566916",
          "status": "completed"
        },
        "tags": [],
        "id": "vocational-excerpt"
      },
      "source": [
        "vax_tweets= df_vacc['text']"
      ],
      "id": "vocational-excerpt",
      "execution_count": null,
      "outputs": []
    },
    {
      "cell_type": "markdown",
      "metadata": {
        "papermill": {
          "duration": 0.065628,
          "end_time": "2021-05-29T15:38:29.772735",
          "exception": false,
          "start_time": "2021-05-29T15:38:29.707107",
          "status": "completed"
        },
        "tags": [],
        "id": "reported-korea"
      },
      "source": [
        "**Pre Processing the tweets**"
      ],
      "id": "reported-korea"
    },
    {
      "cell_type": "code",
      "metadata": {
        "execution": {
          "iopub.execute_input": "2021-05-29T15:38:30.020761Z",
          "iopub.status.busy": "2021-05-29T15:38:29.970714Z",
          "iopub.status.idle": "2021-05-29T15:39:48.070404Z",
          "shell.execute_reply": "2021-05-29T15:39:48.069927Z",
          "shell.execute_reply.started": "2021-05-29T15:10:58.617551Z"
        },
        "papermill": {
          "duration": 78.231659,
          "end_time": "2021-05-29T15:39:48.070539",
          "exception": false,
          "start_time": "2021-05-29T15:38:29.838880",
          "status": "completed"
        },
        "tags": [],
        "id": "mathematical-reply",
        "colab": {
          "base_uri": "https://localhost:8080/"
        },
        "outputId": "0da3d87a-9e10-405a-880d-b864c7de64e5"
      },
      "source": [
        "input_ids = []\n",
        "attention_masks = []\n",
        "\n",
        "for sent in vax_tweets:\n",
        "    \n",
        "    url_pattern = re.compile(r'https?://\\S+|www\\.\\S+')\n",
        "    tweet = url_pattern.sub(r'', sent)\n",
        "    tweet = re.sub('\\S*@\\S*\\s?', '', tweet)\n",
        "    tweet = re.sub('\\s+', ' ', tweet)\n",
        "    sent = re.sub(\"\\'\", \"\", tweet)\n",
        "    \n",
        "    encoded_dict = tokenizer.encode_plus(\n",
        "                        sent,                      \n",
        "                        add_special_tokens = True, \n",
        "                        max_length = 110,           \n",
        "                        pad_to_max_length = True,\n",
        "                        return_attention_mask = True,   \n",
        "                        return_tensors = 'pt',     \n",
        "                   )\n",
        "     \n",
        "    input_ids.append(encoded_dict['input_ids'])\n",
        "    attention_masks.append(encoded_dict['attention_mask'])\n",
        "\n",
        "\n",
        "input_ids = torch.cat(input_ids, dim=0)\n",
        "attention_masks = torch.cat(attention_masks, dim=0)"
      ],
      "id": "mathematical-reply",
      "execution_count": null,
      "outputs": [
        {
          "output_type": "stream",
          "text": [
            "/usr/local/lib/python3.7/dist-packages/transformers/tokenization_utils_base.py:2110: FutureWarning: The `pad_to_max_length` argument is deprecated and will be removed in a future version, use `padding=True` or `padding='longest'` to pad to the longest sequence in the batch, or use `padding='max_length'` to pad to a max length. In this case, you can give a specific length with `max_length` (e.g. `max_length=45`) or leave max_length to None to pad to the maximal input size of the model (e.g. 512 for Bert).\n",
            "  FutureWarning,\n"
          ],
          "name": "stderr"
        }
      ]
    },
    {
      "cell_type": "code",
      "metadata": {
        "execution": {
          "iopub.execute_input": "2021-05-29T15:39:48.210164Z",
          "iopub.status.busy": "2021-05-29T15:39:48.209485Z",
          "iopub.status.idle": "2021-05-29T15:39:48.212740Z",
          "shell.execute_reply": "2021-05-29T15:39:48.212318Z",
          "shell.execute_reply.started": "2021-05-29T15:12:34.207503Z"
        },
        "papermill": {
          "duration": 0.075505,
          "end_time": "2021-05-29T15:39:48.212855",
          "exception": false,
          "start_time": "2021-05-29T15:39:48.137350",
          "status": "completed"
        },
        "tags": [],
        "id": "numerical-capacity"
      },
      "source": [
        "vax_dataset= TensorDataset(input_ids, attention_masks)\n",
        "\n",
        "batch_size = 32\n",
        "\n",
        "vax_dataloader = DataLoader(\n",
        "            vax_dataset,  \n",
        "            sampler = SequentialSampler(vax_tweets),     #Sequential Sampling\n",
        "            batch_size = batch_size \n",
        "        )"
      ],
      "id": "numerical-capacity",
      "execution_count": null,
      "outputs": []
    },
    {
      "cell_type": "markdown",
      "metadata": {
        "papermill": {
          "duration": 0.107486,
          "end_time": "2021-05-29T15:39:48.386269",
          "exception": false,
          "start_time": "2021-05-29T15:39:48.278783",
          "status": "completed"
        },
        "tags": [],
        "id": "curious-exchange"
      },
      "source": [
        "**Prediction**"
      ],
      "id": "curious-exchange"
    },
    {
      "cell_type": "code",
      "metadata": {
        "execution": {
          "iopub.execute_input": "2021-05-29T15:39:48.527004Z",
          "iopub.status.busy": "2021-05-29T15:39:48.526147Z",
          "iopub.status.idle": "2021-05-29T15:44:17.033519Z",
          "shell.execute_reply": "2021-05-29T15:44:17.034164Z",
          "shell.execute_reply.started": "2021-05-29T15:12:34.216242Z"
        },
        "papermill": {
          "duration": 268.582198,
          "end_time": "2021-05-29T15:44:17.034372",
          "exception": false,
          "start_time": "2021-05-29T15:39:48.452174",
          "status": "completed"
        },
        "tags": [],
        "id": "identified-router",
        "colab": {
          "base_uri": "https://localhost:8080/"
        },
        "outputId": "134d16f1-51c2-4243-fad8-b569165ed0dd"
      },
      "source": [
        "print('Predicting labels for {:,} vaccine tweets...'.format(len(input_ids)))\n",
        "\n",
        "model.eval()\n",
        "\n",
        "predictions = []\n",
        "\n",
        "for batch in vax_dataloader:\n",
        " \n",
        "  batch = tuple(t.to(device) for t in batch)\n",
        "  \n",
        "  b_input_ids, b_input_mask = batch\n",
        "\n",
        "  with torch.no_grad():\n",
        "\n",
        "      result = model(b_input_ids, \n",
        "                     token_type_ids=None, \n",
        "                     attention_mask=b_input_mask,\n",
        "                     return_dict=True)\n",
        "\n",
        "  logits = result.logits\n",
        "\n",
        "  logits = logits.detach().cpu().numpy()\n",
        "  \n",
        "  logits=np.argmax(logits,axis=1)\n",
        "  for i in range(len(logits)):\n",
        "    predictions.append(logits[i])\n",
        "    \n",
        "\n",
        "print('    DONE.')"
      ],
      "id": "identified-router",
      "execution_count": null,
      "outputs": [
        {
          "output_type": "stream",
          "text": [
            "Predicting labels for 88,978 vaccine tweets...\n",
            "    DONE.\n"
          ],
          "name": "stdout"
        }
      ]
    },
    {
      "cell_type": "code",
      "metadata": {
        "execution": {
          "iopub.execute_input": "2021-05-29T15:44:17.224355Z",
          "iopub.status.busy": "2021-05-29T15:44:17.186527Z",
          "iopub.status.idle": "2021-05-29T15:44:17.292825Z",
          "shell.execute_reply": "2021-05-29T15:44:17.292337Z",
          "shell.execute_reply.started": "2021-05-29T15:17:02.535048Z"
        },
        "papermill": {
          "duration": 0.184429,
          "end_time": "2021-05-29T15:44:17.292956",
          "exception": false,
          "start_time": "2021-05-29T15:44:17.108527",
          "status": "completed"
        },
        "tags": [],
        "id": "crazy-glory"
      },
      "source": [
        "df_vacc['Sentiment'] = predictions\n",
        "df_vacc=df_vacc.dropna()      #drops the null values"
      ],
      "id": "crazy-glory",
      "execution_count": null,
      "outputs": []
    },
    {
      "cell_type": "code",
      "metadata": {
        "execution": {
          "iopub.execute_input": "2021-05-29T15:44:17.460750Z",
          "iopub.status.busy": "2021-05-29T15:44:17.459500Z",
          "iopub.status.idle": "2021-05-29T15:44:17.464365Z",
          "shell.execute_reply": "2021-05-29T15:44:17.463890Z",
          "shell.execute_reply.started": "2021-05-29T15:17:02.659697Z"
        },
        "papermill": {
          "duration": 0.097169,
          "end_time": "2021-05-29T15:44:17.464499",
          "exception": false,
          "start_time": "2021-05-29T15:44:17.367330",
          "status": "completed"
        },
        "tags": [],
        "id": "minimal-content",
        "colab": {
          "base_uri": "https://localhost:8080/",
          "height": 486
        },
        "outputId": "15374b59-7766-478c-ca58-af68fe7573e6"
      },
      "source": [
        "df_vacc.head()"
      ],
      "id": "minimal-content",
      "execution_count": null,
      "outputs": [
        {
          "output_type": "execute_result",
          "data": {
            "text/html": [
              "<div>\n",
              "<style scoped>\n",
              "    .dataframe tbody tr th:only-of-type {\n",
              "        vertical-align: middle;\n",
              "    }\n",
              "\n",
              "    .dataframe tbody tr th {\n",
              "        vertical-align: top;\n",
              "    }\n",
              "\n",
              "    .dataframe thead th {\n",
              "        text-align: right;\n",
              "    }\n",
              "</style>\n",
              "<table border=\"1\" class=\"dataframe\">\n",
              "  <thead>\n",
              "    <tr style=\"text-align: right;\">\n",
              "      <th></th>\n",
              "      <th>id</th>\n",
              "      <th>user_name</th>\n",
              "      <th>user_location</th>\n",
              "      <th>user_description</th>\n",
              "      <th>user_created</th>\n",
              "      <th>user_followers</th>\n",
              "      <th>user_friends</th>\n",
              "      <th>user_favourites</th>\n",
              "      <th>user_verified</th>\n",
              "      <th>date</th>\n",
              "      <th>text</th>\n",
              "      <th>hashtags</th>\n",
              "      <th>source</th>\n",
              "      <th>retweets</th>\n",
              "      <th>favorites</th>\n",
              "      <th>is_retweet</th>\n",
              "      <th>Sentiment</th>\n",
              "    </tr>\n",
              "  </thead>\n",
              "  <tbody>\n",
              "    <tr>\n",
              "      <th>0</th>\n",
              "      <td>1340539111971516416</td>\n",
              "      <td>Rachel Roh</td>\n",
              "      <td>La Crescenta-Montrose, CA</td>\n",
              "      <td>Aggregator of Asian American news; scanning di...</td>\n",
              "      <td>2009-04-08 17:52:46</td>\n",
              "      <td>405</td>\n",
              "      <td>1692</td>\n",
              "      <td>3247</td>\n",
              "      <td>False</td>\n",
              "      <td>2020-12-20 06:06:44</td>\n",
              "      <td>Same folks said daikon paste could treat a cyt...</td>\n",
              "      <td>['PfizerBioNTech']</td>\n",
              "      <td>Twitter for Android</td>\n",
              "      <td>0</td>\n",
              "      <td>0</td>\n",
              "      <td>False</td>\n",
              "      <td>1</td>\n",
              "    </tr>\n",
              "    <tr>\n",
              "      <th>2</th>\n",
              "      <td>1337858199140118533</td>\n",
              "      <td>eli🇱🇹🇪🇺👌</td>\n",
              "      <td>Your Bed</td>\n",
              "      <td>heil, hydra 🖐☺</td>\n",
              "      <td>2020-06-25 23:30:28</td>\n",
              "      <td>10</td>\n",
              "      <td>88</td>\n",
              "      <td>155</td>\n",
              "      <td>False</td>\n",
              "      <td>2020-12-12 20:33:45</td>\n",
              "      <td>#coronavirus #SputnikV #AstraZeneca #PfizerBio...</td>\n",
              "      <td>['coronavirus', 'SputnikV', 'AstraZeneca', 'Pf...</td>\n",
              "      <td>Twitter for Android</td>\n",
              "      <td>0</td>\n",
              "      <td>0</td>\n",
              "      <td>False</td>\n",
              "      <td>1</td>\n",
              "    </tr>\n",
              "    <tr>\n",
              "      <th>6</th>\n",
              "      <td>1337851215875608579</td>\n",
              "      <td>Gunther Fehlinger</td>\n",
              "      <td>Austria, Ukraine and Kosovo</td>\n",
              "      <td>End North Stream 2 now - the pipeline of corru...</td>\n",
              "      <td>2013-06-10 17:49:22</td>\n",
              "      <td>2731</td>\n",
              "      <td>5001</td>\n",
              "      <td>69344</td>\n",
              "      <td>False</td>\n",
              "      <td>2020-12-12 20:06:00</td>\n",
              "      <td>it is a bit sad to claim the fame for success ...</td>\n",
              "      <td>['vaccination']</td>\n",
              "      <td>Twitter Web App</td>\n",
              "      <td>0</td>\n",
              "      <td>4</td>\n",
              "      <td>False</td>\n",
              "      <td>0</td>\n",
              "    </tr>\n",
              "    <tr>\n",
              "      <th>9</th>\n",
              "      <td>1337842295857623042</td>\n",
              "      <td>Ch.Amjad Ali</td>\n",
              "      <td>Islamabad</td>\n",
              "      <td>#ProudPakistani #LovePakArmy #PMIK @insafiansp...</td>\n",
              "      <td>2012-11-12 04:18:12</td>\n",
              "      <td>671</td>\n",
              "      <td>2368</td>\n",
              "      <td>20469</td>\n",
              "      <td>False</td>\n",
              "      <td>2020-12-12 19:30:33</td>\n",
              "      <td>#CovidVaccine \\n\\nStates will start getting #C...</td>\n",
              "      <td>['CovidVaccine', 'COVID19Vaccine', 'US', 'paku...</td>\n",
              "      <td>Twitter Web App</td>\n",
              "      <td>0</td>\n",
              "      <td>0</td>\n",
              "      <td>False</td>\n",
              "      <td>1</td>\n",
              "    </tr>\n",
              "    <tr>\n",
              "      <th>10</th>\n",
              "      <td>1337841934170255365</td>\n",
              "      <td>Tamer Yazar</td>\n",
              "      <td>Turkey-Israel</td>\n",
              "      <td>Im Market Analyst, also Editor... working (fre...</td>\n",
              "      <td>2009-09-17 16:45:16</td>\n",
              "      <td>1302</td>\n",
              "      <td>78</td>\n",
              "      <td>339</td>\n",
              "      <td>False</td>\n",
              "      <td>2020-12-12 19:29:07</td>\n",
              "      <td>while deaths are closing in on the 300,000 mar...</td>\n",
              "      <td>['PfizerBioNTech', 'Vaccine']</td>\n",
              "      <td>Twitter Web App</td>\n",
              "      <td>0</td>\n",
              "      <td>0</td>\n",
              "      <td>False</td>\n",
              "      <td>1</td>\n",
              "    </tr>\n",
              "  </tbody>\n",
              "</table>\n",
              "</div>"
            ],
            "text/plain": [
              "                     id          user_name  ... is_retweet Sentiment\n",
              "0   1340539111971516416         Rachel Roh  ...      False         1\n",
              "2   1337858199140118533           eli🇱🇹🇪🇺👌  ...      False         1\n",
              "6   1337851215875608579  Gunther Fehlinger  ...      False         0\n",
              "9   1337842295857623042       Ch.Amjad Ali  ...      False         1\n",
              "10  1337841934170255365        Tamer Yazar  ...      False         1\n",
              "\n",
              "[5 rows x 17 columns]"
            ]
          },
          "metadata": {
            "tags": []
          },
          "execution_count": 106
        }
      ]
    },
    {
      "cell_type": "markdown",
      "metadata": {
        "papermill": {
          "duration": 0.069909,
          "end_time": "2021-05-29T15:44:17.604364",
          "exception": false,
          "start_time": "2021-05-29T15:44:17.534455",
          "status": "completed"
        },
        "tags": [],
        "id": "personalized-ferry"
      },
      "source": [
        "We take only the coloumns which are useful for us"
      ],
      "id": "personalized-ferry"
    },
    {
      "cell_type": "code",
      "metadata": {
        "execution": {
          "iopub.execute_input": "2021-05-29T15:44:17.753693Z",
          "iopub.status.busy": "2021-05-29T15:44:17.752996Z",
          "iopub.status.idle": "2021-05-29T15:44:17.756917Z",
          "shell.execute_reply": "2021-05-29T15:44:17.756504Z",
          "shell.execute_reply.started": "2021-05-29T15:17:02.685577Z"
        },
        "papermill": {
          "duration": 0.082424,
          "end_time": "2021-05-29T15:44:17.757036",
          "exception": false,
          "start_time": "2021-05-29T15:44:17.674612",
          "status": "completed"
        },
        "tags": [],
        "id": "infinite-gravity"
      },
      "source": [
        "vacc= df_vacc.drop(['user_name','user_description','user_created','user_followers','user_friends','user_favourites','source','is_retweet'],axis=1)"
      ],
      "id": "infinite-gravity",
      "execution_count": null,
      "outputs": []
    },
    {
      "cell_type": "code",
      "metadata": {
        "execution": {
          "iopub.execute_input": "2021-05-29T15:44:18.060864Z",
          "iopub.status.busy": "2021-05-29T15:44:18.059991Z",
          "iopub.status.idle": "2021-05-29T15:44:18.065325Z",
          "shell.execute_reply": "2021-05-29T15:44:18.064883Z",
          "shell.execute_reply.started": "2021-05-29T15:17:02.720173Z"
        },
        "papermill": {
          "duration": 0.08096,
          "end_time": "2021-05-29T15:44:18.065462",
          "exception": false,
          "start_time": "2021-05-29T15:44:17.984502",
          "status": "completed"
        },
        "tags": [],
        "id": "greatest-parade"
      },
      "source": [
        "vacc['Sentiment']=vacc['Sentiment'].map({0:'negative',1:'neutral',2:'positive'})"
      ],
      "id": "greatest-parade",
      "execution_count": null,
      "outputs": []
    },
    {
      "cell_type": "code",
      "metadata": {
        "colab": {
          "base_uri": "https://localhost:8080/"
        },
        "id": "sJArkA2auu8D",
        "outputId": "32bde227-d8bc-4207-b8c8-dc354cc8c2a5"
      },
      "source": [
        "set(vacc['Sentiment'].to_list())"
      ],
      "id": "sJArkA2auu8D",
      "execution_count": null,
      "outputs": [
        {
          "output_type": "execute_result",
          "data": {
            "text/plain": [
              "{'negative', 'neutral', 'positive'}"
            ]
          },
          "metadata": {
            "tags": []
          },
          "execution_count": 110
        }
      ]
    },
    {
      "cell_type": "code",
      "metadata": {
        "execution": {
          "iopub.execute_input": "2021-05-29T15:44:18.220085Z",
          "iopub.status.busy": "2021-05-29T15:44:18.214874Z",
          "iopub.status.idle": "2021-05-29T15:44:18.374665Z",
          "shell.execute_reply": "2021-05-29T15:44:18.375076Z",
          "shell.execute_reply.started": "2021-05-29T15:17:02.733995Z"
        },
        "papermill": {
          "duration": 0.239917,
          "end_time": "2021-05-29T15:44:18.375219",
          "exception": false,
          "start_time": "2021-05-29T15:44:18.135302",
          "status": "completed"
        },
        "tags": [],
        "id": "provincial-marina",
        "colab": {
          "base_uri": "https://localhost:8080/",
          "height": 317
        },
        "outputId": "1b6650d2-e202-4479-ba6c-023801da2ea8"
      },
      "source": [
        "vacc['Sentiment'].value_counts(normalize=True).plot.bar()"
      ],
      "id": "provincial-marina",
      "execution_count": null,
      "outputs": [
        {
          "output_type": "execute_result",
          "data": {
            "text/plain": [
              "<matplotlib.axes._subplots.AxesSubplot at 0x7f3cbb190550>"
            ]
          },
          "metadata": {
            "tags": []
          },
          "execution_count": 51
        },
        {
          "output_type": "display_data",
          "data": {
            "image/png": "[encoded data removed]",
            "text/plain": [
              "<Figure size 432x288 with 1 Axes>"
            ]
          },
          "metadata": {
            "tags": [],
            "needs_background": "light"
          }
        }
      ]
    },
    {
      "cell_type": "code",
      "metadata": {
        "id": "t1nukn5qy7es"
      },
      "source": [
        "def preprop(vax_tweets):\n",
        "  input_ids = []\n",
        "  attention_masks = []\n",
        "\n",
        "  for sent in vax_tweets:\n",
        "      \n",
        "      url_pattern = re.compile(r'https?://\\S+|www\\.\\S+')\n",
        "      tweet = url_pattern.sub(r'', sent)\n",
        "      tweet = re.sub('\\S*@\\S*\\s?', '', tweet)\n",
        "      tweet = re.sub('\\s+', ' ', tweet)\n",
        "      sent = re.sub(\"\\'\", \"\", tweet)\n",
        "      \n",
        "      encoded_dict = tokenizer.encode_plus(\n",
        "                          sent,                      \n",
        "                          add_special_tokens = True, \n",
        "                          max_length = 110,           \n",
        "                          pad_to_max_length = True,\n",
        "                          return_attention_mask = True,   \n",
        "                          return_tensors = 'pt',     \n",
        "                    )\n",
        "      \n",
        "      input_ids.append(encoded_dict['input_ids'])\n",
        "      attention_masks.append(encoded_dict['attention_mask'])\n",
        "\n",
        "\n",
        "  input_ids = torch.cat(input_ids, dim=0)\n",
        "  attention_masks = torch.cat(attention_masks, dim=0)\n",
        "  return input_ids, attention_masks"
      ],
      "id": "t1nukn5qy7es",
      "execution_count": null,
      "outputs": []
    },
    {
      "cell_type": "code",
      "metadata": {
        "colab": {
          "base_uri": "https://localhost:8080/"
        },
        "id": "gPMJ-bHexupD",
        "outputId": "7fd49483-a905-4075-b119-b1ae5ebc824c"
      },
      "source": [
        "import json\n",
        "real_data = []\n",
        "f = open('Real_time_twitter_data/Vaccines_STREAM_long_en_2.json')\n",
        "for line in f:\n",
        "  text = json.loads(line)['text']\n",
        "  # print(text)\n",
        "  real_data.append(text)\n",
        "input_ids, attention_masks = preprop(real_data)\n",
        "real_vax_dataset= TensorDataset(input_ids, attention_masks)\n",
        "\n",
        "batch_size = 1000\n",
        "\n",
        "real_vax_dataloader = DataLoader(\n",
        "            vax_dataset,  \n",
        "            sampler = SequentialSampler(vax_tweets),     #Sequential Sampling\n",
        "            batch_size = batch_size \n",
        "        )\n",
        "print('Predicting labels for {:,} vaccine tweets...'.format(len(input_ids)))\n",
        "\n"
      ],
      "id": "gPMJ-bHexupD",
      "execution_count": null,
      "outputs": [
        {
          "output_type": "stream",
          "text": [
            "/usr/local/lib/python3.7/dist-packages/transformers/tokenization_utils_base.py:2110: FutureWarning: The `pad_to_max_length` argument is deprecated and will be removed in a future version, use `padding=True` or `padding='longest'` to pad to the longest sequence in the batch, or use `padding='max_length'` to pad to a max length. In this case, you can give a specific length with `max_length` (e.g. `max_length=45`) or leave max_length to None to pad to the maximal input size of the model (e.g. 512 for Bert).\n",
            "  FutureWarning,\n"
          ],
          "name": "stderr"
        },
        {
          "output_type": "stream",
          "text": [
            "Predicting labels for 18,632 vaccine tweets...\n"
          ],
          "name": "stdout"
        }
      ]
    },
    {
      "cell_type": "code",
      "metadata": {
        "colab": {
          "base_uri": "https://localhost:8080/"
        },
        "id": "hOBT3GLsebpU",
        "outputId": "d3958ac1-d6ad-46f4-9a8c-36af6fcad462"
      },
      "source": [
        "len(real_vax_dataloader)"
      ],
      "id": "hOBT3GLsebpU",
      "execution_count": null,
      "outputs": [
        {
          "output_type": "execute_result",
          "data": {
            "text/plain": [
              "89"
            ]
          },
          "metadata": {
            "tags": []
          },
          "execution_count": 149
        }
      ]
    },
    {
      "cell_type": "code",
      "metadata": {
        "id": "7DF3_aeX0etU"
      },
      "source": [
        "from collections import Counter\n",
        "import time\n",
        "model.eval()\n",
        "\n",
        "predictions = []\n",
        "i=0\n",
        "for batch in real_vax_dataloader:\n",
        "  if i==18:\n",
        "    break\n",
        " \n",
        "  batch = tuple(t.to(device) for t in batch)\n",
        "  \n",
        "  b_input_ids, b_input_mask = batch\n",
        "\n",
        "  with torch.no_grad():\n",
        "\n",
        "      result = model(b_input_ids, \n",
        "                     token_type_ids=None, \n",
        "                     attention_mask=b_input_mask,\n",
        "                     return_dict=True)\n",
        "\n",
        "  logits = result.logits\n",
        "\n",
        "  logits = logits.detach().cpu().numpy()\n",
        "  \n",
        "  logits=list(np.argmax(logits,axis=1))\n",
        "  # for i in range(len(logits)):\n",
        "  logits_ = []\n",
        "  for l in logits:\n",
        "    if l==0:\n",
        "      logits_.append('negative')\n",
        "    elif l==1:\n",
        "      logits_.append('neutral')\n",
        "    else:\n",
        "      logits_.append('postive')\n",
        "  predictions+=(logits_)\n",
        "  dict_ = dict(Counter(predictions))\n",
        "  for key in dict_:\n",
        "    dict_[key] = [dict_[key]]\n",
        "  # print(dict_)\n",
        "  pd.DataFrame(dict_).to_csv('real_time_bert_pred.csv')\n",
        "  time.sleep(10)\n",
        "    \n",
        "\n",
        "print('    DONE.')"
      ],
      "id": "7DF3_aeX0etU",
      "execution_count": null,
      "outputs": []
    },
    {
      "cell_type": "markdown",
      "metadata": {
        "id": "rKcVmpn3IhYD"
      },
      "source": [
        "# Code for inferring on the real time data collected using tweepy"
      ],
      "id": "rKcVmpn3IhYD"
    },
    {
      "cell_type": "code",
      "metadata": {
        "colab": {
          "base_uri": "https://localhost:8080/"
        },
        "id": "pqXc8I8Z9iOm",
        "outputId": "2e7150f8-af15-42dc-b063-089c594b4091"
      },
      "source": [
        "from collections import Counter\n",
        "import time\n",
        "model.eval()\n",
        "\n",
        "predictions = []\n",
        "bert_times_recorded = []\n",
        "negs = []\n",
        "pos = []\n",
        "neus = []\n",
        "total_count = 0.0\n",
        "i=0\n",
        "initial_time = 0\n",
        "for batch in real_vax_dataloader:\n",
        "  if i==18:\n",
        "    break\n",
        "  total_count+=batch[0].size(0)\n",
        "  start_time = time.time()\n",
        "  batch = tuple(t.to(device) for t in batch)\n",
        "  \n",
        "  b_input_ids, b_input_mask = batch\n",
        "\n",
        "  with torch.no_grad():\n",
        "\n",
        "      result = model(b_input_ids, \n",
        "                     token_type_ids=None, \n",
        "                     attention_mask=b_input_mask,\n",
        "                     return_dict=True)\n",
        "\n",
        "  logits = result.logits\n",
        "  logits = logits.detach().cpu().numpy()\n",
        "  end_time = time.time()\n",
        "  initial_time+=(end_time-start_time)\n",
        "  print(initial_time)\n",
        "  bert_times_recorded.append(initial_time) \n",
        "  # print(bert_times_recorded) \n",
        "  logits=list(np.argmax(logits,axis=1))\n",
        "  # for i in range(len(logits)):\n",
        "  logits_ = []\n",
        "  for l in logits:\n",
        "    if l==0:\n",
        "      logits_.append('negative')\n",
        "    elif l==1:\n",
        "      logits_.append('neutral')\n",
        "    else:\n",
        "      logits_.append('postive')\n",
        "  predictions+=(logits_)\n",
        "  dict_ = dict(Counter(predictions))\n",
        "  negs.append(float(dict_['negative'])/total_count)\n",
        "  pos.append(float(dict_['postive'])/total_count)\n",
        "  neus.append(float(dict_['neutral'])/total_count)\n",
        "  i+=1\n",
        "  # for key in dict_:\n",
        "  #   dict_[key] = [dict_[key]]\n",
        "  # print(dict_)\n",
        "  # pd.DataFrame(dict_).to_csv('real_time_bert_pred.csv')\n",
        "  # time.sleep(10)\n",
        "    \n",
        "\n",
        "print('    DONE.')"
      ],
      "id": "pqXc8I8Z9iOm",
      "execution_count": null,
      "outputs": [
        {
          "output_type": "stream",
          "text": [
            "6.699916839599609\n",
            "13.398239374160767\n",
            "20.186588525772095\n",
            "26.967507123947144\n",
            "33.81814122200012\n",
            "40.74718189239502\n",
            "47.752676248550415\n",
            "54.82613229751587\n",
            "61.9951913356781\n",
            "69.24631524085999\n",
            "76.39982962608337\n",
            "83.61796927452087\n",
            "90.90871238708496\n",
            "98.2365288734436\n",
            "105.64284944534302\n",
            "113.07509684562683\n",
            "120.56551718711853\n",
            "128.0648431777954\n",
            "    DONE.\n"
          ],
          "name": "stdout"
        }
      ]
    },
    {
      "cell_type": "markdown",
      "metadata": {
        "id": "aUODzC_gDQu8"
      },
      "source": [
        "#Bert estimation"
      ],
      "id": "aUODzC_gDQu8"
    },
    {
      "cell_type": "code",
      "metadata": {
        "colab": {
          "base_uri": "https://localhost:8080/",
          "height": 281
        },
        "id": "8a2OeRVdCj1e",
        "outputId": "7b3e7b6a-4d9f-43f9-cbe7-951a8517e005"
      },
      "source": [
        "plt.bar(np.arange(len(pos))-0.1, pos, color='blue', width= 0.1,label = 'positive sentiment')\n",
        "plt.bar(np.arange(len(negs)), negs, color='red', width=0.1, label = 'negative sentiment')\n",
        "plt.bar(np.arange(len(neus))+0.1, neus, color='green', width= 0.1, label = 'neutal sentiment')\n",
        "plt.legend()\n",
        "plt.title('bert prediction')\n",
        "plt.show()"
      ],
      "id": "8a2OeRVdCj1e",
      "execution_count": null,
      "outputs": [
        {
          "output_type": "display_data",
          "data": {
            "image/png": "[encoded data removed]",
            "text/plain": [
              "<Figure size 432x288 with 1 Axes>"
            ]
          },
          "metadata": {
            "tags": [],
            "needs_background": "light"
          }
        }
      ]
    },
    {
      "cell_type": "markdown",
      "metadata": {
        "id": "DX_9AppBDUCj"
      },
      "source": [
        "#BERT latency"
      ],
      "id": "DX_9AppBDUCj"
    },
    {
      "cell_type": "code",
      "metadata": {
        "id": "fv8OS8ruVHT6"
      },
      "source": [
        "import pandas as pd\n",
        "pd.DataFrame({'time':bert_times_recorded}).to_csv(\"bert_time.csv\", index=False)"
      ],
      "id": "fv8OS8ruVHT6",
      "execution_count": null,
      "outputs": []
    },
    {
      "cell_type": "code",
      "metadata": {
        "colab": {
          "base_uri": "https://localhost:8080/",
          "height": 313
        },
        "id": "8cL4QmTsQaw_",
        "outputId": "881e996f-1c7f-46f9-cdb6-3850b688b1e5"
      },
      "source": [
        "plt.plot(np.arange(len(bert_times_recorded)), bert_times_recorded)\n",
        "plt.xlabel(\"batches\")\n",
        "plt.ylabel(\"time taken\")\n",
        "plt.title(\"bert latency\")\n",
        "plt.legend()\n",
        "plt.show()"
      ],
      "id": "8cL4QmTsQaw_",
      "execution_count": null,
      "outputs": [
        {
          "output_type": "stream",
          "text": [
            "WARNING:matplotlib.legend:No handles with labels found to put in legend.\n"
          ],
          "name": "stderr"
        },
        {
          "output_type": "display_data",
          "data": {
            "image/png": "[encoded data removed]",
            "text/plain": [
              "<Figure size 432x288 with 1 Axes>"
            ]
          },
          "metadata": {
            "tags": [],
            "needs_background": "light"
          }
        }
      ]
    },
    {
      "cell_type": "code",
      "metadata": {
        "colab": {
          "base_uri": "https://localhost:8080/",
          "height": 265
        },
        "id": "QrjNiM03Dbcv",
        "outputId": "7a78bf54-1489-4b7e-f16a-f1915239c051"
      },
      "source": [
        "plt.plot(np.arange(len(bert_times_recorded)), bert_times_recorded, color='red')\n",
        "plt.show()\n",
        "pd.DataFrame({'time':bert_times_recorded}).to_csv(\"bert_latency.csv\", index=False)"
      ],
      "id": "QrjNiM03Dbcv",
      "execution_count": null,
      "outputs": [
        {
          "output_type": "display_data",
          "data": {
            "image/png": "[encoded data removed]",
            "text/plain": [
              "<Figure size 432x288 with 1 Axes>"
            ]
          },
          "metadata": {
            "tags": [],
            "needs_background": "light"
          }
        }
      ]
    },
    {
      "cell_type": "code",
      "metadata": {
        "execution": {
          "iopub.execute_input": "2021-05-29T15:44:18.565569Z",
          "iopub.status.busy": "2021-05-29T15:44:18.564847Z",
          "iopub.status.idle": "2021-05-29T15:44:18.568159Z",
          "shell.execute_reply": "2021-05-29T15:44:18.567555Z",
          "shell.execute_reply.started": "2021-05-29T15:17:02.943084Z"
        },
        "papermill": {
          "duration": 0.121354,
          "end_time": "2021-05-29T15:44:18.568305",
          "exception": false,
          "start_time": "2021-05-29T15:44:18.446951",
          "status": "completed"
        },
        "tags": [],
        "id": "removed-authorization"
      },
      "source": [
        "vacc['date'] = pd.to_datetime(vacc['date'], errors='coerce').dt.date\n",
        "vacc['Sentiment'] = vacc['Sentiment'].map({'negative':-1,'neutral':0,'positive':1})"
      ],
      "id": "removed-authorization",
      "execution_count": null,
      "outputs": []
    },
    {
      "cell_type": "code",
      "metadata": {
        "execution": {
          "iopub.execute_input": "2021-05-29T15:44:18.722873Z",
          "iopub.status.busy": "2021-05-29T15:44:18.722120Z",
          "iopub.status.idle": "2021-05-29T15:44:18.727429Z",
          "shell.execute_reply": "2021-05-29T15:44:18.726969Z",
          "shell.execute_reply.started": "2021-05-29T15:17:02.998704Z"
        },
        "papermill": {
          "duration": 0.088164,
          "end_time": "2021-05-29T15:44:18.727546",
          "exception": false,
          "start_time": "2021-05-29T15:44:18.639382",
          "status": "completed"
        },
        "tags": [],
        "id": "speaking-quarter",
        "colab": {
          "base_uri": "https://localhost:8080/",
          "height": 310
        },
        "outputId": "459d8d0e-91ea-4c84-e66b-1cf1f94f9b16"
      },
      "source": [
        "vacc.head()"
      ],
      "id": "speaking-quarter",
      "execution_count": null,
      "outputs": [
        {
          "output_type": "execute_result",
          "data": {
            "text/html": [
              "<div>\n",
              "<style scoped>\n",
              "    .dataframe tbody tr th:only-of-type {\n",
              "        vertical-align: middle;\n",
              "    }\n",
              "\n",
              "    .dataframe tbody tr th {\n",
              "        vertical-align: top;\n",
              "    }\n",
              "\n",
              "    .dataframe thead th {\n",
              "        text-align: right;\n",
              "    }\n",
              "</style>\n",
              "<table border=\"1\" class=\"dataframe\">\n",
              "  <thead>\n",
              "    <tr style=\"text-align: right;\">\n",
              "      <th></th>\n",
              "      <th>id</th>\n",
              "      <th>user_location</th>\n",
              "      <th>user_verified</th>\n",
              "      <th>date</th>\n",
              "      <th>text</th>\n",
              "      <th>hashtags</th>\n",
              "      <th>retweets</th>\n",
              "      <th>favorites</th>\n",
              "      <th>Sentiment</th>\n",
              "    </tr>\n",
              "  </thead>\n",
              "  <tbody>\n",
              "    <tr>\n",
              "      <th>0</th>\n",
              "      <td>1340539111971516416</td>\n",
              "      <td>La Crescenta-Montrose, CA</td>\n",
              "      <td>False</td>\n",
              "      <td>2020-12-20</td>\n",
              "      <td>Same folks said daikon paste could treat a cyt...</td>\n",
              "      <td>['PfizerBioNTech']</td>\n",
              "      <td>0</td>\n",
              "      <td>0</td>\n",
              "      <td>0</td>\n",
              "    </tr>\n",
              "    <tr>\n",
              "      <th>2</th>\n",
              "      <td>1337858199140118533</td>\n",
              "      <td>Your Bed</td>\n",
              "      <td>False</td>\n",
              "      <td>2020-12-12</td>\n",
              "      <td>#coronavirus #SputnikV #AstraZeneca #PfizerBio...</td>\n",
              "      <td>['coronavirus', 'SputnikV', 'AstraZeneca', 'Pf...</td>\n",
              "      <td>0</td>\n",
              "      <td>0</td>\n",
              "      <td>0</td>\n",
              "    </tr>\n",
              "    <tr>\n",
              "      <th>6</th>\n",
              "      <td>1337851215875608579</td>\n",
              "      <td>Austria, Ukraine and Kosovo</td>\n",
              "      <td>False</td>\n",
              "      <td>2020-12-12</td>\n",
              "      <td>it is a bit sad to claim the fame for success ...</td>\n",
              "      <td>['vaccination']</td>\n",
              "      <td>0</td>\n",
              "      <td>4</td>\n",
              "      <td>-1</td>\n",
              "    </tr>\n",
              "    <tr>\n",
              "      <th>9</th>\n",
              "      <td>1337842295857623042</td>\n",
              "      <td>Islamabad</td>\n",
              "      <td>False</td>\n",
              "      <td>2020-12-12</td>\n",
              "      <td>#CovidVaccine \\n\\nStates will start getting #C...</td>\n",
              "      <td>['CovidVaccine', 'COVID19Vaccine', 'US', 'paku...</td>\n",
              "      <td>0</td>\n",
              "      <td>0</td>\n",
              "      <td>0</td>\n",
              "    </tr>\n",
              "    <tr>\n",
              "      <th>10</th>\n",
              "      <td>1337841934170255365</td>\n",
              "      <td>Turkey-Israel</td>\n",
              "      <td>False</td>\n",
              "      <td>2020-12-12</td>\n",
              "      <td>while deaths are closing in on the 300,000 mar...</td>\n",
              "      <td>['PfizerBioNTech', 'Vaccine']</td>\n",
              "      <td>0</td>\n",
              "      <td>0</td>\n",
              "      <td>0</td>\n",
              "    </tr>\n",
              "  </tbody>\n",
              "</table>\n",
              "</div>"
            ],
            "text/plain": [
              "                     id                user_location  ...  favorites Sentiment\n",
              "0   1340539111971516416    La Crescenta-Montrose, CA  ...          0         0\n",
              "2   1337858199140118533                     Your Bed  ...          0         0\n",
              "6   1337851215875608579  Austria, Ukraine and Kosovo  ...          4        -1\n",
              "9   1337842295857623042                    Islamabad  ...          0         0\n",
              "10  1337841934170255365                Turkey-Israel  ...          0         0\n",
              "\n",
              "[5 rows x 9 columns]"
            ]
          },
          "metadata": {
            "tags": []
          },
          "execution_count": 53
        }
      ]
    },
    {
      "cell_type": "code",
      "metadata": {
        "execution": {
          "iopub.execute_input": "2021-05-29T15:44:18.877433Z",
          "iopub.status.busy": "2021-05-29T15:44:18.876873Z",
          "iopub.status.idle": "2021-05-29T15:44:18.881022Z",
          "shell.execute_reply": "2021-05-29T15:44:18.880570Z",
          "shell.execute_reply.started": "2021-05-29T15:17:03.022380Z"
        },
        "papermill": {
          "duration": 0.081209,
          "end_time": "2021-05-29T15:44:18.881135",
          "exception": false,
          "start_time": "2021-05-29T15:44:18.799926",
          "status": "completed"
        },
        "tags": [],
        "id": "latter-blade"
      },
      "source": [
        "all_vax = ['covaxin', 'sinopharm', 'sinovac', 'moderna', 'pfizer', 'biontech', 'oxford', 'astrazeneca', 'sputnik']\n",
        "\n",
        "vax_sentiment = pd.DataFrame()\n",
        "vax_sentiment['Vaccine']=all_vax\n",
        "sentiments=list()"
      ],
      "id": "latter-blade",
      "execution_count": null,
      "outputs": []
    },
    {
      "cell_type": "code",
      "metadata": {
        "id": "LyRouVIQxq3z"
      },
      "source": [
        ""
      ],
      "id": "LyRouVIQxq3z",
      "execution_count": null,
      "outputs": []
    },
    {
      "cell_type": "markdown",
      "metadata": {
        "papermill": {
          "duration": 0.072641,
          "end_time": "2021-05-29T15:44:19.025171",
          "exception": false,
          "start_time": "2021-05-29T15:44:18.952530",
          "status": "completed"
        },
        "tags": [],
        "id": "governmental-immunology"
      },
      "source": [
        "# Variance with Time"
      ],
      "id": "governmental-immunology"
    },
    {
      "cell_type": "code",
      "metadata": {
        "execution": {
          "iopub.execute_input": "2021-05-29T15:44:19.177630Z",
          "iopub.status.busy": "2021-05-29T15:44:19.176060Z",
          "iopub.status.idle": "2021-05-29T15:44:19.178372Z",
          "shell.execute_reply": "2021-05-29T15:44:19.178787Z",
          "shell.execute_reply.started": "2021-05-29T15:17:03.033805Z"
        },
        "papermill": {
          "duration": 0.082628,
          "end_time": "2021-05-29T15:44:19.178920",
          "exception": false,
          "start_time": "2021-05-29T15:44:19.096292",
          "status": "completed"
        },
        "tags": [],
        "id": "crude-playing"
      },
      "source": [
        "def time_variance(vacc) :\n",
        "    if vacc=='all':\n",
        "        vacc=vax\n",
        "    else :   \n",
        "        vacc=vax[vax['text'].str.lower().str.contains(vacc)]\n",
        "        sentiments.append(vacc.Sentiment.mean())\n",
        "\n",
        "    temp=pd.DataFrame()\n",
        "    temp['date'] = sorted(vacc['date'].unique())\n",
        "    senti=list()\n",
        "\n",
        "    for date in temp['date']:\n",
        "        senti.append(vacc[vacc['date']==date].Sentiment.mean())\n",
        "\n",
        "    temp['Sentiment']=senti\n",
        "    \n",
        "    fg,axs=plt.subplots(figsize=(15,7))\n",
        "    sns.lineplot(ax=axs,x='date',y='Sentiment', data= temp)\n",
        "    axs.set_xlabel(\"Time\",size=16)\n",
        "    axs.set_ylabel(\"Sentiment\",size=16)\n",
        "    axs.set_title(\"Variance of Sentiment wrt Time\",size=24)\n",
        "    axs.grid()"
      ],
      "id": "crude-playing",
      "execution_count": null,
      "outputs": []
    },
    {
      "cell_type": "code",
      "metadata": {
        "id": "8uheaOHjmlVO"
      },
      "source": [
        "# from collections import Counter\n",
        "def vaccine_count(vacc) :\n",
        "    if vacc=='all':\n",
        "        vacc=vax\n",
        "    else :   \n",
        "        vacc=vax[vax['text'].str.lower().str.contains(vacc)]\n",
        "        # count = Counter()\n",
        "        # sentiments.append(vacc.Sentiment.mean())\n",
        "    vacc['Sentiment'] = vacc['Sentiment'].map({-1:'negative', 0:'neutral',1:'positive'})\n",
        "    vacc['Sentiment'].value_counts(normalize=True).plot.bar()"
      ],
      "id": "8uheaOHjmlVO",
      "execution_count": null,
      "outputs": []
    },
    {
      "cell_type": "markdown",
      "metadata": {
        "papermill": {
          "duration": 0.071595,
          "end_time": "2021-05-29T15:44:19.321781",
          "exception": false,
          "start_time": "2021-05-29T15:44:19.250186",
          "status": "completed"
        },
        "tags": [],
        "id": "guided-restriction"
      },
      "source": [
        "Mean overall sentiment"
      ],
      "id": "guided-restriction"
    },
    {
      "cell_type": "code",
      "metadata": {
        "execution": {
          "iopub.execute_input": "2021-05-29T15:44:19.484169Z",
          "iopub.status.busy": "2021-05-29T15:44:19.483180Z",
          "iopub.status.idle": "2021-05-29T15:44:20.523448Z",
          "shell.execute_reply": "2021-05-29T15:44:20.523989Z",
          "shell.execute_reply.started": "2021-05-29T15:17:03.050388Z"
        },
        "papermill": {
          "duration": 1.130301,
          "end_time": "2021-05-29T15:44:20.524155",
          "exception": false,
          "start_time": "2021-05-29T15:44:19.393854",
          "status": "completed"
        },
        "tags": [],
        "id": "automated-above",
        "colab": {
          "base_uri": "https://localhost:8080/",
          "height": 472
        },
        "outputId": "8a710cd6-cbef-4e02-bed6-dc6e5f85f3ec"
      },
      "source": [
        "time_variance('all')"
      ],
      "id": "automated-above",
      "execution_count": null,
      "outputs": [
        {
          "output_type": "display_data",
          "data": {
            "image/png": "[encoded data removed]",
            "text/plain": [
              "<Figure size 1080x504 with 1 Axes>"
            ]
          },
          "metadata": {
            "tags": [],
            "needs_background": "light"
          }
        }
      ]
    },
    {
      "cell_type": "markdown",
      "metadata": {
        "papermill": {
          "duration": 0.090605,
          "end_time": "2021-05-29T15:44:27.728862",
          "exception": false,
          "start_time": "2021-05-29T15:44:27.638257",
          "status": "completed"
        },
        "tags": [],
        "id": "steady-lunch"
      },
      "source": [
        "# Comparison amongst Vaccines"
      ],
      "id": "steady-lunch"
    },
    {
      "cell_type": "code",
      "metadata": {
        "execution": {
          "iopub.execute_input": "2021-05-29T15:44:27.937867Z",
          "iopub.status.busy": "2021-05-29T15:44:27.936836Z",
          "iopub.status.idle": "2021-05-29T15:44:28.099618Z",
          "shell.execute_reply": "2021-05-29T15:44:28.100030Z",
          "shell.execute_reply.started": "2021-05-29T15:17:09.250914Z"
        },
        "papermill": {
          "duration": 0.280585,
          "end_time": "2021-05-29T15:44:28.100187",
          "exception": false,
          "start_time": "2021-05-29T15:44:27.819602",
          "status": "completed"
        },
        "tags": [],
        "id": "interesting-salvation",
        "colab": {
          "base_uri": "https://localhost:8080/",
          "height": 489
        },
        "outputId": "2198de72-a55d-4c48-d535-80059d4a2f8f"
      },
      "source": [
        "vax_sentiment['Sentiment']=sentiments\n",
        "\n",
        "fg,axs=plt.subplots(figsize=(15,7))\n",
        "sns.barplot(ax=axs,x='Vaccine',y='Sentiment',data=vax_sentiment)\n",
        "axs.set_xlabel(\"Vaccines\",size=16)\n",
        "axs.set_ylabel(\"Mean Sentiment\",size=16)\n",
        "axs.set_title(\"Mean Sentiment of Vaccines\",size=24)"
      ],
      "id": "interesting-salvation",
      "execution_count": null,
      "outputs": [
        {
          "output_type": "execute_result",
          "data": {
            "text/plain": [
              "Text(0.5, 1.0, 'Mean Sentiment of Vaccines')"
            ]
          },
          "metadata": {
            "tags": []
          },
          "execution_count": 66
        },
        {
          "output_type": "display_data",
          "data": {
            "image/png": "[encoded data removed]",
            "text/plain": [
              "<Figure size 1080x504 with 1 Axes>"
            ]
          },
          "metadata": {
            "tags": [],
            "needs_background": "light"
          }
        }
      ]
    },
    {
      "cell_type": "markdown",
      "metadata": {
        "papermill": {
          "duration": 0.090468,
          "end_time": "2021-05-29T15:44:28.281415",
          "exception": false,
          "start_time": "2021-05-29T15:44:28.190947",
          "status": "completed"
        },
        "tags": [],
        "id": "female-arthur"
      },
      "source": [
        "Biontech vaccine has recieved the best response among all these vaccines whereas astrazeneca has the lowest mean sentiment. It is a good thing to note that the mean sentiments for all the vaccines is positive."
      ],
      "id": "female-arthur"
    },
    {
      "cell_type": "markdown",
      "metadata": {
        "id": "N6-9sA-HU1YF"
      },
      "source": [
        "#Model Saving"
      ],
      "id": "N6-9sA-HU1YF"
    },
    {
      "cell_type": "code",
      "metadata": {
        "id": "QVnHzcoDUV_y"
      },
      "source": [
        "torch.save(model.state_dict(), \"Trained_models/model.pt\")"
      ],
      "id": "QVnHzcoDUV_y",
      "execution_count": null,
      "outputs": []
    }
  ]
}